{
 "cells": [
  {
   "cell_type": "code",
   "execution_count": 1,
   "id": "inappropriate-algebra",
   "metadata": {},
   "outputs": [],
   "source": [
    "import numpy as np"
   ]
  },
  {
   "cell_type": "code",
   "execution_count": 2,
   "id": "exclusive-atlanta",
   "metadata": {},
   "outputs": [],
   "source": [
    "import pandas as pd"
   ]
  },
  {
   "cell_type": "code",
   "execution_count": 3,
   "id": "compliant-antigua",
   "metadata": {},
   "outputs": [],
   "source": [
    "import matplotlib.pyplot as plt"
   ]
  },
  {
   "cell_type": "markdown",
   "id": "voluntary-friendly",
   "metadata": {},
   "source": [
    "*Preconditions*"
   ]
  },
  {
   "cell_type": "code",
   "execution_count": 4,
   "id": "working-ethics",
   "metadata": {},
   "outputs": [],
   "source": [
    "np.random.seed(1234)\n",
    "# Возьмем 2 признака и 1000 объектов\n",
    "n_features = 2\n",
    "n_objects = 1000\n",
    "\n",
    "# сгенерируем вектор истинных весов\n",
    "w_true = np.random.normal(size=(n_features))\n",
    "\n",
    "# сгенерируем матрицу X, вычислим Y с добавлением случайного шума\n",
    "X = np.random.uniform(-7, 7, (n_objects, n_features))\n",
    "Y = X.dot(w_true) + np.random.normal(0, 0.5, size=(n_objects))\n",
    "\n",
    "# возьмем нулевые начальные веса\n",
    "w = np.zeros(n_features)"
   ]
  },
  {
   "cell_type": "code",
   "execution_count": 5,
   "id": "asian-founder",
   "metadata": {},
   "outputs": [],
   "source": [
    "# реализуем функцию, определяющую среднеквадратичную ошибку\n",
    "def mserror(X, w, y):\n",
    "    y_pred = X.dot(w)\n",
    "    return (np.sum((y_pred - y)**2)) / len(y)"
   ]
  },
  {
   "cell_type": "code",
   "execution_count": 6,
   "id": "secure-black",
   "metadata": {},
   "outputs": [],
   "source": [
    "def calc_mae(y, y_pred):\n",
    "    err = np.mean(np.abs(y - y_pred))\n",
    "    return err\n",
    "\n",
    "def calc_mse(y, y_pred):\n",
    "    err = np.mean((y - y_pred)**2)\n",
    "    return err"
   ]
  },
  {
   "cell_type": "code",
   "execution_count": 7,
   "id": "incoming-integral",
   "metadata": {},
   "outputs": [],
   "source": [
    "def mse_manual(w1, w2, y_pred):\n",
    "    w = np.array([w1, w2])\n",
    "    y = X.dot(w)\n",
    "    return (sum((y - y_pred)**2)) / len(y)"
   ]
  },
  {
   "cell_type": "markdown",
   "id": "honey-madrid",
   "metadata": {},
   "source": [
    "**1. Подберите скорость обучения (eta) и количество итераций**"
   ]
  },
  {
   "cell_type": "code",
   "execution_count": null,
   "id": "secure-terry",
   "metadata": {},
   "outputs": [],
   "source": [
    "n = X.shape[0]\n",
    "\n",
    "eta = 1e-2 \n",
    "n_iter = 100\n",
    "\n",
    "W = np.array([1, 0.5])\n",
    "print(f'Number of objects = {n} \\\n",
    "       \\nLearning rate = {eta} \\\n",
    "       \\nInitial weights = {W} \\n')\n",
    "\n",
    "for i in range(n_iter):\n",
    "    y_pred = np.dot(X, W)\n",
    "    err = calc_mse(y, y_pred)\n",
    "    for k in range(W.shape[0]):\n",
    "        W[k] -= eta * (1/n * 2 * X[:, k] @ (y_pred - y))\n",
    "    if i % 10 == 0:\n",
    "        eta /= 1.1\n",
    "        print(f'Iteration #{i}: W_new = {W}, MSE = {round(err, 2)}')"
   ]
  },
  {
   "cell_type": "markdown",
   "id": "forced-guidance",
   "metadata": {},
   "source": [
    "*Решение:*"
   ]
  },
  {
   "cell_type": "markdown",
   "id": "inner-hotel",
   "metadata": {},
   "source": [
    "Подготовка данных"
   ]
  },
  {
   "cell_type": "code",
   "execution_count": 9,
   "id": "general-november",
   "metadata": {},
   "outputs": [],
   "source": [
    "#Воспользуемся готовыми формулами с урока.\n",
    "np.random.seed(1234)\n",
    "# Возьмем 2 признака и 1000 объектов \n",
    "n_features = 2\n",
    "n_objects = 1000"
   ]
  },
  {
   "cell_type": "code",
   "execution_count": 10,
   "id": "optional-amplifier",
   "metadata": {},
   "outputs": [],
   "source": [
    "# сгенерируем вектор истинных весов\n",
    "w_true = np.random.normal(size=(n_features))"
   ]
  },
  {
   "cell_type": "code",
   "execution_count": 11,
   "id": "wanted-wound",
   "metadata": {},
   "outputs": [],
   "source": [
    "# сгенерируем матрицу X, вычислим Y с добавлением случайного шума\n",
    "X = np.random.uniform(-7, 7, (n_objects, n_features))\n",
    "y = X.dot(w_true) + np.random.normal(0, 0.5, size=(n_objects))"
   ]
  },
  {
   "cell_type": "code",
   "execution_count": 12,
   "id": "palestinian-taiwan",
   "metadata": {},
   "outputs": [],
   "source": [
    "# возьмем нулевые начальные веса\n",
    "w = np.zeros(n_features)"
   ]
  },
  {
   "cell_type": "code",
   "execution_count": 13,
   "id": "automatic-gregory",
   "metadata": {},
   "outputs": [],
   "source": [
    "n = X.shape[0]"
   ]
  },
  {
   "cell_type": "code",
   "execution_count": 14,
   "id": "exceptional-trainer",
   "metadata": {},
   "outputs": [],
   "source": [
    "#Начальные веса\n",
    "W = np.array([1, 0.5])"
   ]
  },
  {
   "cell_type": "code",
   "execution_count": 15,
   "id": "sporting-powder",
   "metadata": {},
   "outputs": [],
   "source": [
    "n_iter = 2000\n",
    "eta = 1e-2 "
   ]
  },
  {
   "cell_type": "markdown",
   "id": "indie-modem",
   "metadata": {},
   "source": [
    "Функция рассчета MSE. На выходе получаем номер итеррации, где MSE прекращает уменьшаться и значение MSE.\n",
    "Т.к. значение epsilon использовано в задаче 3. критерием оценки в данной задаче сделаем MSE"
   ]
  },
  {
   "cell_type": "code",
   "execution_count": 16,
   "id": "sonic-latter",
   "metadata": {},
   "outputs": [],
   "source": [
    "# Расчет y_pred по итеррациям\n",
    "def y_pred_calc(n_iter, X, y, eta):\n",
    "    #-------------------------------------------------------------------\n",
    "    #Values which will be defaulted each run of function\n",
    "    #-------------------------------------------------------------------\n",
    "    W = np.array([1, 0.5])    \n",
    "    mse_old = 1\n",
    "    # ------------------------------------------------------------------\n",
    "    for i in range(n_iter):                 \n",
    "        y_pred = np.dot(X, W)\n",
    "        err = calc_mse(y, y_pred)\n",
    "        for k in range(W.shape[0]):\n",
    "            W[k] -= eta * (1/n * 2 * X[:, k] @ (y_pred - y))\n",
    "        if i % 10 == 0:\n",
    "            eta /= 1.1\n",
    "            #print(f'Iteration #{i}: W_new = {W}, MSE = {round(err, 2)}')  \n",
    "        #----------------------------------------------------------------\n",
    "        # exit from loop due to stable MSE value\n",
    "        #----------------------------------------------------------------\n",
    "        if err == mse_old:\n",
    "            break\n",
    "        mse_old = err\n",
    "        #----------------------------------------------------------------\n",
    "    return i, mse_old"
   ]
  },
  {
   "cell_type": "markdown",
   "id": "fitted-peeing",
   "metadata": {},
   "source": [
    "Проверка работы функции"
   ]
  },
  {
   "cell_type": "code",
   "execution_count": 17,
   "id": "productive-peeing",
   "metadata": {},
   "outputs": [],
   "source": [
    "n_crit, MSE = y_pred_calc(n_iter, X, y, eta)"
   ]
  },
  {
   "cell_type": "code",
   "execution_count": 18,
   "id": "natural-exhaust",
   "metadata": {
    "scrolled": true
   },
   "outputs": [
    {
     "data": {
      "text/plain": [
       "(83, 0.2413403112113865)"
      ]
     },
     "execution_count": 18,
     "metadata": {},
     "output_type": "execute_result"
    }
   ],
   "source": [
    "n_crit, MSE"
   ]
  },
  {
   "cell_type": "markdown",
   "id": "cellular-workstation",
   "metadata": {},
   "source": [
    "Расчет оптимального количества "
   ]
  },
  {
   "cell_type": "code",
   "execution_count": 19,
   "id": "compliant-jersey",
   "metadata": {},
   "outputs": [],
   "source": [
    "mse_list = []"
   ]
  },
  {
   "cell_type": "code",
   "execution_count": 20,
   "id": "forbidden-elite",
   "metadata": {},
   "outputs": [],
   "source": [
    "for counter in range (1, 1000, 1):\n",
    "    eta_f = counter/10000\n",
    "    result = y_pred_calc(n_iter, X, y, eta_f)\n",
    "    mse_list.append(list([*result, eta_f]))    \n",
    "    "
   ]
  },
  {
   "cell_type": "code",
   "execution_count": 21,
   "id": "hispanic-command",
   "metadata": {
    "scrolled": true
   },
   "outputs": [
    {
     "name": "stdout",
     "output_type": "stream",
     "text": [
      "[[1.99900000e+03 2.71228930e+01 1.00000000e-04]\n",
      " [1.99900000e+03 1.34279667e+01 2.00000000e-04]\n",
      " [1.99900000e+03 6.71508764e+00 3.00000000e-04]\n",
      " ...\n",
      " [1.24000000e+02 2.41340311e-01 9.97000000e-02]\n",
      " [1.24000000e+02 2.41340311e-01 9.98000000e-02]\n",
      " [1.27000000e+02 2.41340311e-01 9.99000000e-02]]\n"
     ]
    }
   ],
   "source": [
    "mse_list = np.array(mse_list)\n",
    "print(mse_list)"
   ]
  },
  {
   "cell_type": "markdown",
   "id": "mineral-washer",
   "metadata": {},
   "source": [
    "Преобразовываем в pandas dataframe как более простой для обработки и отображения."
   ]
  },
  {
   "cell_type": "code",
   "execution_count": 22,
   "id": "judicial-cannon",
   "metadata": {
    "scrolled": true
   },
   "outputs": [
    {
     "data": {
      "text/html": [
       "<div>\n",
       "<style scoped>\n",
       "    .dataframe tbody tr th:only-of-type {\n",
       "        vertical-align: middle;\n",
       "    }\n",
       "\n",
       "    .dataframe tbody tr th {\n",
       "        vertical-align: top;\n",
       "    }\n",
       "\n",
       "    .dataframe thead th {\n",
       "        text-align: right;\n",
       "    }\n",
       "</style>\n",
       "<table border=\"1\" class=\"dataframe\">\n",
       "  <thead>\n",
       "    <tr style=\"text-align: right;\">\n",
       "      <th></th>\n",
       "      <th>0</th>\n",
       "      <th>1</th>\n",
       "      <th>2</th>\n",
       "    </tr>\n",
       "  </thead>\n",
       "  <tbody>\n",
       "    <tr>\n",
       "      <th>0</th>\n",
       "      <td>1999.0</td>\n",
       "      <td>27.122893</td>\n",
       "      <td>0.0001</td>\n",
       "    </tr>\n",
       "    <tr>\n",
       "      <th>1</th>\n",
       "      <td>1999.0</td>\n",
       "      <td>13.427967</td>\n",
       "      <td>0.0002</td>\n",
       "    </tr>\n",
       "    <tr>\n",
       "      <th>2</th>\n",
       "      <td>1999.0</td>\n",
       "      <td>6.715088</td>\n",
       "      <td>0.0003</td>\n",
       "    </tr>\n",
       "    <tr>\n",
       "      <th>3</th>\n",
       "      <td>1999.0</td>\n",
       "      <td>3.422286</td>\n",
       "      <td>0.0004</td>\n",
       "    </tr>\n",
       "    <tr>\n",
       "      <th>4</th>\n",
       "      <td>1999.0</td>\n",
       "      <td>1.805815</td>\n",
       "      <td>0.0005</td>\n",
       "    </tr>\n",
       "  </tbody>\n",
       "</table>\n",
       "</div>"
      ],
      "text/plain": [
       "        0          1       2\n",
       "0  1999.0  27.122893  0.0001\n",
       "1  1999.0  13.427967  0.0002\n",
       "2  1999.0   6.715088  0.0003\n",
       "3  1999.0   3.422286  0.0004\n",
       "4  1999.0   1.805815  0.0005"
      ]
     },
     "execution_count": 22,
     "metadata": {},
     "output_type": "execute_result"
    }
   ],
   "source": [
    "df = pd.DataFrame(mse_list, dtype='float64')\n",
    "df.head()"
   ]
  },
  {
   "cell_type": "code",
   "execution_count": 23,
   "id": "correct-devon",
   "metadata": {},
   "outputs": [],
   "source": [
    "pd.set_option(\"display.precision\", 10)"
   ]
  },
  {
   "cell_type": "markdown",
   "id": "devoted-cream",
   "metadata": {},
   "source": [
    "Начальная величина eta и количество итерраций для достижения минимальной величины MSE"
   ]
  },
  {
   "cell_type": "code",
   "execution_count": 24,
   "id": "million-roots",
   "metadata": {},
   "outputs": [
    {
     "data": {
      "text/html": [
       "<div>\n",
       "<style scoped>\n",
       "    .dataframe tbody tr th:only-of-type {\n",
       "        vertical-align: middle;\n",
       "    }\n",
       "\n",
       "    .dataframe tbody tr th {\n",
       "        vertical-align: top;\n",
       "    }\n",
       "\n",
       "    .dataframe thead th {\n",
       "        text-align: right;\n",
       "    }\n",
       "</style>\n",
       "<table border=\"1\" class=\"dataframe\">\n",
       "  <thead>\n",
       "    <tr style=\"text-align: right;\">\n",
       "      <th></th>\n",
       "      <th>0</th>\n",
       "      <th>1</th>\n",
       "      <th>2</th>\n",
       "    </tr>\n",
       "  </thead>\n",
       "  <tbody>\n",
       "    <tr>\n",
       "      <th>179</th>\n",
       "      <td>35.0</td>\n",
       "      <td>0.2413403112</td>\n",
       "      <td>0.0180</td>\n",
       "    </tr>\n",
       "    <tr>\n",
       "      <th>295</th>\n",
       "      <td>12.0</td>\n",
       "      <td>0.2413403112</td>\n",
       "      <td>0.0296</td>\n",
       "    </tr>\n",
       "    <tr>\n",
       "      <th>335</th>\n",
       "      <td>14.0</td>\n",
       "      <td>0.2413403112</td>\n",
       "      <td>0.0336</td>\n",
       "    </tr>\n",
       "    <tr>\n",
       "      <th>412</th>\n",
       "      <td>21.0</td>\n",
       "      <td>0.2413403112</td>\n",
       "      <td>0.0413</td>\n",
       "    </tr>\n",
       "    <tr>\n",
       "      <th>468</th>\n",
       "      <td>28.0</td>\n",
       "      <td>0.2413403112</td>\n",
       "      <td>0.0469</td>\n",
       "    </tr>\n",
       "    <tr>\n",
       "      <th>526</th>\n",
       "      <td>42.0</td>\n",
       "      <td>0.2413403112</td>\n",
       "      <td>0.0527</td>\n",
       "    </tr>\n",
       "    <tr>\n",
       "      <th>569</th>\n",
       "      <td>46.0</td>\n",
       "      <td>0.2413403112</td>\n",
       "      <td>0.0570</td>\n",
       "    </tr>\n",
       "    <tr>\n",
       "      <th>685</th>\n",
       "      <td>68.0</td>\n",
       "      <td>0.2413403112</td>\n",
       "      <td>0.0686</td>\n",
       "    </tr>\n",
       "    <tr>\n",
       "      <th>771</th>\n",
       "      <td>84.0</td>\n",
       "      <td>0.2413403112</td>\n",
       "      <td>0.0772</td>\n",
       "    </tr>\n",
       "    <tr>\n",
       "      <th>801</th>\n",
       "      <td>91.0</td>\n",
       "      <td>0.2413403112</td>\n",
       "      <td>0.0802</td>\n",
       "    </tr>\n",
       "    <tr>\n",
       "      <th>809</th>\n",
       "      <td>92.0</td>\n",
       "      <td>0.2413403112</td>\n",
       "      <td>0.0810</td>\n",
       "    </tr>\n",
       "    <tr>\n",
       "      <th>874</th>\n",
       "      <td>103.0</td>\n",
       "      <td>0.2413403112</td>\n",
       "      <td>0.0875</td>\n",
       "    </tr>\n",
       "    <tr>\n",
       "      <th>908</th>\n",
       "      <td>109.0</td>\n",
       "      <td>0.2413403112</td>\n",
       "      <td>0.0909</td>\n",
       "    </tr>\n",
       "    <tr>\n",
       "      <th>928</th>\n",
       "      <td>111.0</td>\n",
       "      <td>0.2413403112</td>\n",
       "      <td>0.0929</td>\n",
       "    </tr>\n",
       "    <tr>\n",
       "      <th>946</th>\n",
       "      <td>114.0</td>\n",
       "      <td>0.2413403112</td>\n",
       "      <td>0.0947</td>\n",
       "    </tr>\n",
       "    <tr>\n",
       "      <th>971</th>\n",
       "      <td>119.0</td>\n",
       "      <td>0.2413403112</td>\n",
       "      <td>0.0972</td>\n",
       "    </tr>\n",
       "  </tbody>\n",
       "</table>\n",
       "</div>"
      ],
      "text/plain": [
       "         0             1       2\n",
       "179   35.0  0.2413403112  0.0180\n",
       "295   12.0  0.2413403112  0.0296\n",
       "335   14.0  0.2413403112  0.0336\n",
       "412   21.0  0.2413403112  0.0413\n",
       "468   28.0  0.2413403112  0.0469\n",
       "526   42.0  0.2413403112  0.0527\n",
       "569   46.0  0.2413403112  0.0570\n",
       "685   68.0  0.2413403112  0.0686\n",
       "771   84.0  0.2413403112  0.0772\n",
       "801   91.0  0.2413403112  0.0802\n",
       "809   92.0  0.2413403112  0.0810\n",
       "874  103.0  0.2413403112  0.0875\n",
       "908  109.0  0.2413403112  0.0909\n",
       "928  111.0  0.2413403112  0.0929\n",
       "946  114.0  0.2413403112  0.0947\n",
       "971  119.0  0.2413403112  0.0972"
      ]
     },
     "execution_count": 24,
     "metadata": {},
     "output_type": "execute_result"
    }
   ],
   "source": [
    "min_mse = df[df[1] == df[1].min()]\n",
    "min_mse"
   ]
  },
  {
   "cell_type": "code",
   "execution_count": null,
   "id": "british-medication",
   "metadata": {},
   "outputs": [],
   "source": []
  },
  {
   "cell_type": "markdown",
   "id": "embedded-april",
   "metadata": {},
   "source": [
    "**2*. В этом коде мы избавляемся от итераций по весам, но тут есть ошибка, исправьте ее**"
   ]
  },
  {
   "cell_type": "code",
   "execution_count": null,
   "id": "registered-cooking",
   "metadata": {},
   "outputs": [],
   "source": [
    "n = X.shape[0]\n",
    "\n",
    "eta = 1e-2 \n",
    "n_iter = 100\n",
    "\n",
    "W = np.array([1, 0.5])\n",
    "print(f'Number of objects = {n} \\\n",
    "       \\nLearning rate = {eta} \\\n",
    "       \\nInitial weights = {W} \\n')\n",
    "\n",
    "for i in range(n_iter):\n",
    "    y_pred = np.dot(X, W)\n",
    "    err = calc_mse(y, y_pred)\n",
    "#     for k in range(W.shape[0]):\n",
    "#         W[k] -= eta * (1/n * 2 * X[:, k] @ (y_pred - y))\n",
    "    # ИЗМЕНЕНИЯ\n",
    "    W -= eta * (1/n * 2 * np.dot(X, y_pred - y))\n",
    "    # ИЗМЕНЕНИЯ\n",
    "    #\n",
    "    if i % 10 == 0:\n",
    "        print(f'Iteration #{i}: W_new = {W}, MSE = {round(err,2)}')"
   ]
  },
  {
   "cell_type": "markdown",
   "id": "extra-sender",
   "metadata": {},
   "source": [
    "*Решение*"
   ]
  },
  {
   "cell_type": "markdown",
   "id": "particular-practitioner",
   "metadata": {},
   "source": [
    "Если говорить о работе numpy то ошибка в вычислении произведения. Т.к. массивы разных размерностей не могут быть перемножены. \n",
    "Скорее всего, матрица X должна быть транспонирована"
   ]
  },
  {
   "cell_type": "code",
   "execution_count": 25,
   "id": "sorted-value",
   "metadata": {},
   "outputs": [
    {
     "name": "stdout",
     "output_type": "stream",
     "text": [
      "Number of objects = 1000        \n",
      "Learning rate = 0.01        \n",
      "Initial weights = [1.  0.5] \n",
      "\n",
      "Iteration #0: W_new = [ 0.77555414 -0.08042107], MSE = 55.08\n",
      "Iteration #10: W_new = [ 0.46486357 -1.16593699], MSE = 0.25\n",
      "Iteration #20: W_new = [ 0.46611043 -1.18287596], MSE = 0.24\n",
      "Iteration #30: W_new = [ 0.46621995 -1.18317306], MSE = 0.24\n",
      "Iteration #40: W_new = [ 0.46622317 -1.18317875], MSE = 0.24\n",
      "Iteration #50: W_new = [ 0.46622325 -1.18317886], MSE = 0.24\n",
      "Iteration #60: W_new = [ 0.46622325 -1.18317886], MSE = 0.24\n",
      "Iteration #70: W_new = [ 0.46622325 -1.18317886], MSE = 0.24\n",
      "Iteration #80: W_new = [ 0.46622325 -1.18317886], MSE = 0.24\n",
      "Iteration #90: W_new = [ 0.46622325 -1.18317886], MSE = 0.24\n"
     ]
    }
   ],
   "source": [
    "n = X.shape[0]\n",
    "\n",
    "eta = 1e-2 \n",
    "n_iter = 100\n",
    "\n",
    "W = np.array([1, 0.5])\n",
    "print(f'Number of objects = {n} \\\n",
    "       \\nLearning rate = {eta} \\\n",
    "       \\nInitial weights = {W} \\n')\n",
    "\n",
    "for i in range(n_iter):\n",
    "    y_pred = np.dot(X, W)\n",
    "    err = calc_mse(y, y_pred)\n",
    "#     for k in range(W.shape[0]):\n",
    "#         W[k] -= eta * (1/n * 2 * X[:, k] @ (y_pred - y))\n",
    "    # ИЗМЕНЕНИЯ\n",
    "    W -= eta * (1/n * 2 * np.dot(X.T, (y_pred - y)))\n",
    "    # ИЗМЕНЕНИЯ\n",
    "    #\n",
    "    if i % 10 == 0:\n",
    "        print(f'Iteration #{i}: W_new = {W}, MSE = {round(err,2)}')"
   ]
  },
  {
   "cell_type": "code",
   "execution_count": null,
   "id": "encouraging-there",
   "metadata": {},
   "outputs": [],
   "source": []
  },
  {
   "cell_type": "markdown",
   "id": "extreme-michael",
   "metadata": {},
   "source": [
    "**3*. Вместо того, чтобы задавать количество итераций, задайте другое условие останова алгоритма - когда веса перестают изменяться меньше определенного порога  𝜖 .**"
   ]
  },
  {
   "cell_type": "markdown",
   "id": "favorite-planet",
   "metadata": {},
   "source": [
    "Воспользуемся решением из предыдущей задачи"
   ]
  },
  {
   "cell_type": "markdown",
   "id": "automotive-highland",
   "metadata": {},
   "source": [
    "Изменения:  \n",
    "Добавлена отдельная функция по вычислению Эвклидовой нормы для получения разности, которая будет сравниваться с величиной эпсилон.  \n",
    "Добавлен критерий выхода по этой величине.  \n",
    "Добавлен цикл с критерием выхода при слишком большом числе итерраций.  \n",
    "Добавлено определение переменных, которые будут использоваться в цикле."
   ]
  },
  {
   "cell_type": "code",
   "execution_count": 26,
   "id": "angry-basket",
   "metadata": {},
   "outputs": [],
   "source": [
    "def norm(item):\n",
    "    total = 0\n",
    "    for elem in item:              \n",
    "        total += elem**2\n",
    "    return np.sqrt(total)"
   ]
  },
  {
   "cell_type": "code",
   "execution_count": 47,
   "id": "current-installation",
   "metadata": {},
   "outputs": [
    {
     "name": "stdout",
     "output_type": "stream",
     "text": [
      "Number of objects = 1000        \n",
      "Learning rate = 0.001        \n",
      "Initial weights = [1.  0.5] \n",
      "\n",
      "Iteration #0: W_new = [0.97755541 0.44195789], MSE = 55.08\n",
      "Iteration #10: W_new = [ 0.79783482 -0.03864547], MSE = 26.99\n",
      "Iteration #20: W_new = [ 0.67975301 -0.37663857], MSE = 13.31\n",
      "Iteration #30: W_new = [ 0.6025447 -0.6144786], MSE = 6.64\n",
      "Iteration #40: W_new = [ 0.55234586 -0.7819419 ], MSE = 3.38\n",
      "Iteration #50: W_new = [ 0.51992429 -0.89992314], MSE = 1.79\n",
      "Iteration #60: W_new = [ 0.49915014 -0.98309297], MSE = 1.0\n",
      "Iteration #70: W_new = [ 0.48596687 -1.04175792], MSE = 0.62\n",
      "Iteration #80: W_new = [ 0.47770007 -1.08316283], MSE = 0.43\n",
      "Iteration #90: W_new = [ 0.47259415 -1.11240335], MSE = 0.33\n",
      "Iteration #100: W_new = [ 0.4695024  -1.13306562], MSE = 0.29\n",
      "Iteration #110: W_new = [ 0.46768015 -1.14767494], MSE = 0.26\n",
      "Iteration #120: W_new = [ 0.46664716 -1.15801065], MSE = 0.25\n",
      "Iteration #130: W_new = [ 0.46609624 -1.16532721], MSE = 0.25\n",
      "Iteration #140: W_new = [ 0.46583286 -1.17050958], MSE = 0.24\n",
      "Iteration #150: W_new = [ 0.46573537 -1.17418244], MSE = 0.24\n",
      "Iteration #160: W_new = [ 0.46572889 -1.17678697], MSE = 0.24\n",
      "Iteration #170: W_new = [ 0.46576829 -1.17863497], MSE = 0.24\n",
      "Iteration #180: W_new = [ 0.46582713 -1.17994694], MSE = 0.24\n",
      "Iteration #190: W_new = [ 0.46589058 -1.18087888], MSE = 0.24\n",
      "Iteration #200: W_new = [ 0.46595086 -1.18154123], MSE = 0.24\n",
      "Iteration #210: W_new = [ 0.46600436 -1.18201224], MSE = 0.24\n",
      "Iteration #220: W_new = [ 0.46604987 -1.18234736], MSE = 0.24\n",
      "Iteration #230: W_new = [ 0.46608748 -1.18258592], MSE = 0.24\n",
      "Iteration #240: W_new = [ 0.46611792 -1.18275583], MSE = 0.24\n",
      "Iteration #250: W_new = [ 0.46614215 -1.18287691], MSE = 0.24\n"
     ]
    }
   ],
   "source": [
    "n = X.shape[0]\n",
    "\n",
    "eta = 1e-3 \n",
    "n_iter = 100\n",
    "\n",
    "W = np.array([1, 0.5])\n",
    "print(f'Number of objects = {n} \\\n",
    "       \\nLearning rate = {eta} \\\n",
    "       \\nInitial weights = {W} \\n')\n",
    "\n",
    "#for i in range(n_iter):\n",
    "#--------------------------------------------------------------------\n",
    "# Change-------------------------------------------------------------\n",
    "#--------------------------------------------------------------------\n",
    "epsilon = 1e-5\n",
    "w_old = [1, 1]\n",
    "i = 0\n",
    "norm_w_old = norm(w_old)\n",
    "while i < 100000: \n",
    "#-------------------------------------------------------------------\n",
    "\n",
    "    y_pred = np.dot(X, W)\n",
    "    err = calc_mse(y, y_pred)\n",
    "    W -= eta * (1/n * 2 * np.dot(X.T, y_pred - y))\n",
    "    if i % 10 == 0:\n",
    "        print(f'Iteration #{i}: W_new = {W}, MSE = {round(err,2)}')\n",
    "        \n",
    "#--------------------------------------------------------------------\n",
    "# Change-------------------------------------------------------------\n",
    "#--------------------------------------------------------------------        \n",
    "    diff = norm_w_old - norm(W)\n",
    "    norm_w_old = norm(W)\n",
    "    i += 1\n",
    "    if abs(diff) < epsilon:\n",
    "        break\n",
    "#--------------------------------------------------------------------   \n",
    "        "
   ]
  },
  {
   "cell_type": "code",
   "execution_count": null,
   "id": "athletic-jersey",
   "metadata": {},
   "outputs": [],
   "source": []
  }
 ],
 "metadata": {
  "kernelspec": {
   "display_name": "Python 3",
   "language": "python",
   "name": "python3"
  },
  "language_info": {
   "codemirror_mode": {
    "name": "ipython",
    "version": 3
   },
   "file_extension": ".py",
   "mimetype": "text/x-python",
   "name": "python",
   "nbconvert_exporter": "python",
   "pygments_lexer": "ipython3",
   "version": "3.9.1"
  }
 },
 "nbformat": 4,
 "nbformat_minor": 5
}
