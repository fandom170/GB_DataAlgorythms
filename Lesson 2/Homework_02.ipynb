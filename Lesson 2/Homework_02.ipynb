{
 "cells": [
  {
   "cell_type": "markdown",
   "id": "short-encoding",
   "metadata": {},
   "source": [
    "##### import numpy as np\n",
    "import pandas as pd"
   ]
  },
  {
   "cell_type": "code",
   "execution_count": 197,
   "id": "clean-fairy",
   "metadata": {},
   "outputs": [],
   "source": [
    "import matplotlib.pyplot as plt"
   ]
  },
  {
   "cell_type": "code",
   "execution_count": null,
   "id": "electronic-browser",
   "metadata": {},
   "outputs": [],
   "source": []
  },
  {
   "cell_type": "code",
   "execution_count": 198,
   "id": "peaceful-trouble",
   "metadata": {},
   "outputs": [],
   "source": [
    "def calc_mse(y, y_pred):\n",
    "    \"\"\"MSE calculation function. General\"\"\"\n",
    "    err = np.mean((y - y_pred)**2)\n",
    "    return err"
   ]
  },
  {
   "cell_type": "code",
   "execution_count": 199,
   "id": "gothic-prague",
   "metadata": {},
   "outputs": [],
   "source": [
    "def standard_scale(X):\n",
    "    \"\"\"Function is used for standartization\"\"\"\n",
    "    mean = X.mean()\n",
    "    std = X.std()\n",
    "    return (X - mean) / std"
   ]
  },
  {
   "cell_type": "code",
   "execution_count": 200,
   "id": "comic-junction",
   "metadata": {},
   "outputs": [],
   "source": [
    "def norm(item):\n",
    "    total = 0\n",
    "    for elem in item:              \n",
    "        total += elem**2\n",
    "    return np.sqrt(total)"
   ]
  },
  {
   "cell_type": "markdown",
   "id": "restricted-genealogy",
   "metadata": {},
   "source": [
    "## Домашнее задание <a class='anchor' id='hw'>"
   ]
  },
  {
   "cell_type": "markdown",
   "id": "indoor-quality",
   "metadata": {},
   "source": [
    "1. Постройте график зависимости весов всех признаков от lambda в самописной L2-регуляризации (на данных про ЕГЭ). Сделайте вывод"
   ]
  },
  {
   "cell_type": "markdown",
   "id": "roman-security",
   "metadata": {},
   "source": [
    "Данные для ЕГЭ.  \n",
    "Примем в качестве исходных данных датасет по ЕГЭ с расширением"
   ]
  },
  {
   "cell_type": "code",
   "execution_count": 201,
   "id": "hollow-antenna",
   "metadata": {},
   "outputs": [],
   "source": [
    "X = np.array([[   1,    1,  500,    1],\n",
    "              [   1,    1,  700,    1],\n",
    "              [   1,    2,  750,    2],\n",
    "              [   1,    5,  600,    1],\n",
    "              [   1,    3, 1450,    2],\n",
    "              [   1,    0,  800,    1],\n",
    "              [   1,    5, 1500,    3],\n",
    "              [   1,   10, 2000,    3],\n",
    "              [   1,    1,  450,    1],\n",
    "              [   1,    2, 1000,    2]])"
   ]
  },
  {
   "cell_type": "code",
   "execution_count": 202,
   "id": "naughty-algeria",
   "metadata": {},
   "outputs": [],
   "source": [
    "y = [45, 55, 50, 55, 60, 35, 75, 80, 50, 60]"
   ]
  },
  {
   "cell_type": "markdown",
   "id": "incoming-label",
   "metadata": {},
   "source": [
    "Функция градиентного спуска с L2 регуляризацией.\n",
    "в отличие от исходной функции, добавлен выход из цикла при достижении определеннлй величины разности весов."
   ]
  },
  {
   "cell_type": "code",
   "execution_count": 253,
   "id": "coated-comparison",
   "metadata": {},
   "outputs": [],
   "source": [
    "def gradient_descent_reg_l2(X, y, iterations, eta, reg, epsilon = 1e-9):\n",
    "    \"\"\"Функция высчитывает величину градиента и применияет ее\n",
    "    к весам до конца количества итераций или до достижения поределенной разницы\n",
    "    в весах\"\"\"\n",
    "    #----------------------------------------------------------\n",
    "    #CHANGE\n",
    "    #----------------------------------------------------------\n",
    "    W_old = None    \n",
    "    #----------------------------------------------------------\n",
    "   \n",
    "    W = np.random.randn(X.shape[1]) #веса\n",
    "    n = X.shape[0] #\n",
    "    \n",
    "    for i in range(0, iterations):\n",
    "        #----------------------------------------------------------\n",
    "        #CHANGE\n",
    "        #----------------------------------------------------------\n",
    "        W_old = W.copy()\n",
    "        #----------------------------------------------------------\n",
    "        \n",
    "        y_pred = np.dot(X, W)\n",
    "        err = calc_mse(y, y_pred)        \n",
    "        dQ = 2/n * X.T @ (y_pred - y) # градиент функции ошибки\n",
    "        dReg = reg * W                # градиент регуляризации\n",
    "        W -= eta * (dQ + dReg)\n",
    "        \n",
    "        \n",
    "        #----------------------------------------------------------\n",
    "        #CHANGE\n",
    "        #----------------------------------------------------------\n",
    "        #if abs(norm(W_old)-norm(W)) < epsilon:\n",
    "        #    break\n",
    "        #----------------------------------------------------------\n",
    "    return  W"
   ]
  },
  {
   "cell_type": "markdown",
   "id": "indonesian-confirmation",
   "metadata": {},
   "source": [
    "Применим стандартизацию к исходному набору признаков, т.к. величины в оригинальном наборе имеют разный порядок."
   ]
  },
  {
   "cell_type": "code",
   "execution_count": 234,
   "id": "maritime-static",
   "metadata": {},
   "outputs": [],
   "source": [
    "X_st = X.copy().astype(np.float64)"
   ]
  },
  {
   "cell_type": "code",
   "execution_count": 235,
   "id": "recovered-metadata",
   "metadata": {},
   "outputs": [],
   "source": [
    "X_st[:, 1] = standard_scale(X_st[:, 1])\n",
    "X_st[:, 2] = standard_scale(X_st[:, 2])\n",
    "X_st[:, 3] = standard_scale(X_st[:, 3])"
   ]
  },
  {
   "cell_type": "code",
   "execution_count": 236,
   "id": "higher-cassette",
   "metadata": {
    "scrolled": false
   },
   "outputs": [
    {
     "data": {
      "text/plain": [
       "array([[ 1.        , -0.70710678, -0.97958969, -0.89625816],\n",
       "       [ 1.        , -0.70710678, -0.56713087, -0.89625816],\n",
       "       [ 1.        , -0.35355339, -0.46401617,  0.38411064],\n",
       "       [ 1.        ,  0.70710678, -0.77336028, -0.89625816],\n",
       "       [ 1.        ,  0.        ,  0.97958969,  0.38411064]])"
      ]
     },
     "execution_count": 236,
     "metadata": {},
     "output_type": "execute_result"
    }
   ],
   "source": [
    "X_st[0:5]"
   ]
  },
  {
   "cell_type": "markdown",
   "id": "interior-direction",
   "metadata": {},
   "source": [
    "Создадим список различных значений лямбда для которого будем оценивать параметры"
   ]
  },
  {
   "cell_type": "code",
   "execution_count": 237,
   "id": "pointed-process",
   "metadata": {},
   "outputs": [],
   "source": [
    "counter = 100"
   ]
  },
  {
   "cell_type": "code",
   "execution_count": 257,
   "id": "consolidated-silly",
   "metadata": {},
   "outputs": [],
   "source": [
    "lambda_array = np.logspace(-5, 1, num=counter)"
   ]
  },
  {
   "cell_type": "code",
   "execution_count": 258,
   "id": "encouraging-hungary",
   "metadata": {},
   "outputs": [
    {
     "data": {
      "text/plain": [
       "array([1.00000000e-05, 1.14975700e-05, 1.32194115e-05, 1.51991108e-05,\n",
       "       1.74752840e-05, 2.00923300e-05, 2.31012970e-05, 2.65608778e-05,\n",
       "       3.05385551e-05, 3.51119173e-05, 4.03701726e-05, 4.64158883e-05,\n",
       "       5.33669923e-05, 6.13590727e-05, 7.05480231e-05, 8.11130831e-05,\n",
       "       9.32603347e-05, 1.07226722e-04, 1.23284674e-04, 1.41747416e-04,\n",
       "       1.62975083e-04, 1.87381742e-04, 2.15443469e-04, 2.47707636e-04,\n",
       "       2.84803587e-04, 3.27454916e-04, 3.76493581e-04, 4.32876128e-04,\n",
       "       4.97702356e-04, 5.72236766e-04, 6.57933225e-04, 7.56463328e-04,\n",
       "       8.69749003e-04, 1.00000000e-03, 1.14975700e-03, 1.32194115e-03,\n",
       "       1.51991108e-03, 1.74752840e-03, 2.00923300e-03, 2.31012970e-03,\n",
       "       2.65608778e-03, 3.05385551e-03, 3.51119173e-03, 4.03701726e-03,\n",
       "       4.64158883e-03, 5.33669923e-03, 6.13590727e-03, 7.05480231e-03,\n",
       "       8.11130831e-03, 9.32603347e-03, 1.07226722e-02, 1.23284674e-02,\n",
       "       1.41747416e-02, 1.62975083e-02, 1.87381742e-02, 2.15443469e-02,\n",
       "       2.47707636e-02, 2.84803587e-02, 3.27454916e-02, 3.76493581e-02,\n",
       "       4.32876128e-02, 4.97702356e-02, 5.72236766e-02, 6.57933225e-02,\n",
       "       7.56463328e-02, 8.69749003e-02, 1.00000000e-01, 1.14975700e-01,\n",
       "       1.32194115e-01, 1.51991108e-01, 1.74752840e-01, 2.00923300e-01,\n",
       "       2.31012970e-01, 2.65608778e-01, 3.05385551e-01, 3.51119173e-01,\n",
       "       4.03701726e-01, 4.64158883e-01, 5.33669923e-01, 6.13590727e-01,\n",
       "       7.05480231e-01, 8.11130831e-01, 9.32603347e-01, 1.07226722e+00,\n",
       "       1.23284674e+00, 1.41747416e+00, 1.62975083e+00, 1.87381742e+00,\n",
       "       2.15443469e+00, 2.47707636e+00, 2.84803587e+00, 3.27454916e+00,\n",
       "       3.76493581e+00, 4.32876128e+00, 4.97702356e+00, 5.72236766e+00,\n",
       "       6.57933225e+00, 7.56463328e+00, 8.69749003e+00, 1.00000000e+01])"
      ]
     },
     "execution_count": 258,
     "metadata": {},
     "output_type": "execute_result"
    }
   ],
   "source": [
    "lambda_array"
   ]
  },
  {
   "cell_type": "markdown",
   "id": "found-booking",
   "metadata": {},
   "source": [
    "После применения стандартизации приименим функцию градиентного спуска с L2 регуляризацией и по возвращенным данным построим визуализацию."
   ]
  },
  {
   "cell_type": "code",
   "execution_count": 259,
   "id": "helpful-swedish",
   "metadata": {},
   "outputs": [],
   "source": [
    "W_total = np.empty([counter, X.shape[1]], dtype=np.float64)"
   ]
  },
  {
   "cell_type": "code",
   "execution_count": 260,
   "id": "subsequent-providence",
   "metadata": {
    "scrolled": false
   },
   "outputs": [],
   "source": [
    "for j in range(counter):\n",
    "    reg = lambda_array[j]\n",
    "    eta=1e-2\n",
    "    iterations=5000\n",
    "    W_graph = gradient_descent_reg_l2(X_st, y, iterations, eta, reg)\n",
    "    #print(W_graph)\n",
    "    W_total[j] = W_graph\n",
    "    "
   ]
  },
  {
   "cell_type": "markdown",
   "id": "specified-companion",
   "metadata": {},
   "source": [
    "Массив с окончательным значением весов"
   ]
  },
  {
   "cell_type": "code",
   "execution_count": 261,
   "id": "contrary-thailand",
   "metadata": {
    "scrolled": true
   },
   "outputs": [
    {
     "data": {
      "text/plain": [
       "array([[ 5.64997175e+01,  6.30298980e+00, -3.56048080e-01,\n",
       "         6.57120323e+00],\n",
       "       [ 5.64996752e+01,  6.30297491e+00, -3.56000142e-01,\n",
       "         6.57116487e+00],\n",
       "       [ 5.64996266e+01,  6.30296704e+00, -3.55989701e-01,\n",
       "         6.57115765e+00],\n",
       "       [ 5.64995706e+01,  6.30294877e+00, -3.55933130e-01,\n",
       "         6.57111255e+00],\n",
       "       [ 5.64995063e+01,  6.30292525e+00, -3.55855972e-01,\n",
       "         6.57105070e+00],\n",
       "       [ 5.64994324e+01,  6.30292034e+00, -3.55874070e-01,\n",
       "         6.57106775e+00],\n",
       "       [ 5.64993474e+01,  6.30290357e+00, -3.55841234e-01,\n",
       "         6.57104308e+00],\n",
       "       [ 5.64992497e+01,  6.30287006e+00, -3.55734763e-01,\n",
       "         6.57095799e+00],\n",
       "       [ 5.64991373e+01,  6.30282596e+00, -3.55585430e-01,\n",
       "         6.57083795e+00],\n",
       "       [ 5.64990081e+01,  6.30279541e+00, -3.55511010e-01,\n",
       "         6.57078021e+00],\n",
       "       [ 5.64988596e+01,  6.30275585e+00, -3.55404113e-01,\n",
       "         6.57069623e+00],\n",
       "       [ 5.64986888e+01,  6.30269907e+00, -3.55226621e-01,\n",
       "         6.57055461e+00],\n",
       "       [ 5.64984924e+01,  6.30267325e+00, -3.55213073e-01,\n",
       "         6.57054903e+00],\n",
       "       [ 5.64982667e+01,  6.30260047e+00, -3.54989439e-01,\n",
       "         6.57037090e+00],\n",
       "       [ 5.64980071e+01,  6.30253027e+00, -3.54797388e-01,\n",
       "         6.57021980e+00],\n",
       "       [ 5.64977086e+01,  6.30246137e+00, -3.54633594e-01,\n",
       "         6.57009313e+00],\n",
       "       [ 5.64973655e+01,  6.30237417e+00, -3.54406736e-01,\n",
       "         6.56991569e+00],\n",
       "       [ 5.64969710e+01,  6.30225833e+00, -3.54070719e-01,\n",
       "         6.56964961e+00],\n",
       "       [ 5.64965174e+01,  6.30214389e+00, -3.53774847e-01,\n",
       "         6.56941835e+00],\n",
       "       [ 5.64959959e+01,  6.30200334e+00, -3.53391332e-01,\n",
       "         6.56911669e+00],\n",
       "       [ 5.64953963e+01,  6.30183746e+00, -3.52929713e-01,\n",
       "         6.56875280e+00],\n",
       "       [ 5.64947070e+01,  6.30166732e+00, -3.52498271e-01,\n",
       "         6.56841637e+00],\n",
       "       [ 5.64939144e+01,  6.30146044e+00, -3.51947853e-01,\n",
       "         6.56798468e+00],\n",
       "       [ 5.64930031e+01,  6.30121107e+00, -3.51259417e-01,\n",
       "         6.56744245e+00],\n",
       "       [ 5.64919554e+01,  6.30092578e+00, -3.50474681e-01,\n",
       "         6.56682462e+00],\n",
       "       [ 5.64907509e+01,  6.30062263e+00, -3.49692404e-01,\n",
       "         6.56621328e+00],\n",
       "       [ 5.64893661e+01,  6.30024303e+00, -3.48642980e-01,\n",
       "         6.56538658e+00],\n",
       "       [ 5.64877739e+01,  6.29983481e+00, -3.47572535e-01,\n",
       "         6.56454841e+00],\n",
       "       [ 5.64859434e+01,  6.29934349e+00, -3.46235616e-01,\n",
       "         6.56349706e+00],\n",
       "       [ 5.64838389e+01,  6.29877714e+00, -3.44691265e-01,\n",
       "         6.56228227e+00],\n",
       "       [ 5.64814195e+01,  6.29815079e+00, -3.43035147e-01,\n",
       "         6.56098415e+00],\n",
       "       [ 5.64786380e+01,  6.29741973e+00, -3.41077975e-01,\n",
       "         6.55944779e+00],\n",
       "       [ 5.64754403e+01,  6.29657637e+00, -3.38813577e-01,\n",
       "         6.55766961e+00],\n",
       "       [ 5.64717641e+01,  6.29560844e+00, -3.36217840e-01,\n",
       "         6.55563142e+00],\n",
       "       [ 5.64675380e+01,  6.29449524e+00, -3.33230938e-01,\n",
       "         6.55328585e+00],\n",
       "       [ 5.64626798e+01,  6.29321815e+00, -3.29809283e-01,\n",
       "         6.55059918e+00],\n",
       "       [ 5.64570951e+01,  6.29175599e+00, -3.25903548e-01,\n",
       "         6.54753330e+00],\n",
       "       [ 5.64506754e+01,  6.29007459e+00, -3.21409641e-01,\n",
       "         6.54400524e+00],\n",
       "       [ 5.64432961e+01,  6.28813609e+00, -3.16214581e-01,\n",
       "         6.53992514e+00],\n",
       "       [ 5.64348141e+01,  6.28592081e+00, -3.10303437e-01,\n",
       "         6.53528452e+00],\n",
       "       [ 5.64250650e+01,  6.28337527e+00, -3.03509737e-01,\n",
       "         6.52995037e+00],\n",
       "       [ 5.64138601e+01,  6.28046009e+00, -2.95748621e-01,\n",
       "         6.52385761e+00],\n",
       "       [ 5.64009827e+01,  6.27711630e+00, -2.86855834e-01,\n",
       "         6.51687632e+00],\n",
       "       [ 5.63861840e+01,  6.27327537e+00, -2.76638370e-01,\n",
       "         6.50885357e+00],\n",
       "       [ 5.63691787e+01,  6.26888562e+00, -2.65004609e-01,\n",
       "         6.49972095e+00],\n",
       "       [ 5.63496395e+01,  6.26385832e+00, -2.51706525e-01,\n",
       "         6.48928183e+00],\n",
       "       [ 5.63271908e+01,  6.25809232e+00, -2.36461766e-01,\n",
       "         6.47731224e+00],\n",
       "       [ 5.63014024e+01,  6.25151060e+00, -2.19133552e-01,\n",
       "         6.46370941e+00],\n",
       "       [ 5.62717811e+01,  6.24399555e+00, -1.99422010e-01,\n",
       "         6.44823705e+00],\n",
       "       [ 5.62377624e+01,  6.23541329e+00, -1.76985810e-01,\n",
       "         6.43062581e+00],\n",
       "       [ 5.61986999e+01,  6.22562059e+00, -1.51480134e-01,\n",
       "         6.41060463e+00],\n",
       "       [ 5.61538545e+01,  6.21446841e+00, -1.22578685e-01,\n",
       "         6.38791884e+00],\n",
       "       [ 5.61023816e+01,  6.20178466e+00, -8.98961217e-02,\n",
       "         6.36226607e+00],\n",
       "       [ 5.60433168e+01,  6.18737019e+00, -5.29742158e-02,\n",
       "         6.33328460e+00],\n",
       "       [ 5.59755601e+01,  6.17103580e+00, -1.14667365e-02,\n",
       "         6.30070567e+00],\n",
       "       [ 5.58978586e+01,  6.15252945e+00,  3.52058056e-02,\n",
       "         6.26406799e+00],\n",
       "       [ 5.58087869e+01,  6.13163684e+00,  8.73643181e-02,\n",
       "         6.22312299e+00],\n",
       "       [ 5.57067262e+01,  6.10808156e+00,  1.45547088e-01,\n",
       "         6.17744100e+00],\n",
       "       [ 5.55898417e+01,  6.08159993e+00,  2.10142988e-01,\n",
       "         6.12671256e+00],\n",
       "       [ 5.54560575e+01,  6.05191111e+00,  2.81530815e-01,\n",
       "         6.07063161e+00],\n",
       "       [ 5.53030319e+01,  6.01872351e+00,  3.60045028e-01,\n",
       "         6.00892132e+00],\n",
       "       [ 5.51281300e+01,  5.98175084e+00,  4.45896427e-01,\n",
       "         5.94139644e+00],\n",
       "       [ 5.49283976e+01,  5.94070370e+00,  5.39213468e-01,\n",
       "         5.86792524e+00],\n",
       "       [ 5.47005350e+01,  5.89530970e+00,  6.39948795e-01,\n",
       "         5.78850168e+00],\n",
       "       [ 5.44408738e+01,  5.84530902e+00,  7.47908028e-01,\n",
       "         5.70321560e+00],\n",
       "       [ 5.41453565e+01,  5.79046912e+00,  8.62690196e-01,\n",
       "         5.61229460e+00],\n",
       "       [ 5.38095238e+01,  5.73058912e+00,  9.83683042e-01,\n",
       "         5.51609943e+00],\n",
       "       [ 5.34285099e+01,  5.66550619e+00,  1.11005308e+00,\n",
       "         5.41512243e+00],\n",
       "       [ 5.29970509e+01,  5.59510132e+00,  1.24074353e+00,\n",
       "         5.30997840e+00],\n",
       "       [ 5.25095106e+01,  5.51930249e+00,  1.37448858e+00,\n",
       "         5.20138126e+00],\n",
       "       [ 5.19599275e+01,  5.43808657e+00,  1.50983623e+00,\n",
       "         5.09011333e+00],\n",
       "       [ 5.13420890e+01,  5.35147877e+00,  1.64518359e+00,\n",
       "         4.97698473e+00],\n",
       "       [ 5.06496383e+01,  5.25954990e+00,  1.77882065e+00,\n",
       "         4.86278714e+00],\n",
       "       [ 4.98762192e+01,  5.16241142e+00,  1.90897991e+00,\n",
       "         4.74824510e+00],\n",
       "       [ 4.90156625e+01,  5.06020839e+00,  2.03388798e+00,\n",
       "         4.63396941e+00],\n",
       "       [ 4.80622170e+01,  4.95311076e+00,  2.15181548e+00,\n",
       "         4.52041670e+00],\n",
       "       [ 4.70108245e+01,  4.84130323e+00,  2.26112207e+00,\n",
       "         4.40785915e+00],\n",
       "       [ 4.58574326e+01,  4.72497445e+00,  2.36029417e+00,\n",
       "         4.29636716e+00],\n",
       "       [ 4.45993375e+01,  4.60430631e+00,  2.44797441e+00,\n",
       "         4.18580655e+00],\n",
       "       [ 4.32355375e+01,  4.47946434e+00,  2.52298266e+00,\n",
       "         4.07585043e+00],\n",
       "       [ 4.17670766e+01,  4.35059045e+00,  2.58432979e+00,\n",
       "         3.96600452e+00],\n",
       "       [ 4.01973465e+01,  4.21779936e+00,  2.63122586e+00,\n",
       "         3.85564400e+00],\n",
       "       [ 3.85323164e+01,  4.08117992e+00,  2.66308475e+00,\n",
       "         3.74405887e+00],\n",
       "       [ 3.67806548e+01,  3.94080226e+00,  2.67952704e+00,\n",
       "         3.63050485e+00],\n",
       "       [ 3.49537139e+01,  3.79673117e+00,  2.68038281e+00,\n",
       "         3.51425664e+00],\n",
       "       [ 3.30653561e+01,  3.64904540e+00,  2.66569503e+00,\n",
       "         3.39466067e+00],\n",
       "       [ 3.11316135e+01,  3.49786174e+00,  2.63572367e+00,\n",
       "         3.27118447e+00],\n",
       "       [ 2.91701925e+01,  3.34336182e+00,  2.59094987e+00,\n",
       "         3.14346016e+00],\n",
       "       [ 2.71998499e+01,  3.18581896e+00,  2.53207840e+00,\n",
       "         3.01131984e+00],\n",
       "       [ 2.52396857e+01,  3.02562204e+00,  2.46003659e+00,\n",
       "         2.87482053e+00],\n",
       "       [ 2.33084084e+01,  2.86329293e+00,  2.37596744e+00,\n",
       "         2.73425697e+00],\n",
       "       [ 2.14236320e+01,  2.69949481e+00,  2.28121452e+00,\n",
       "         2.59016084e+00],\n",
       "       [ 1.96012590e+01,  2.53502923e+00,  2.17729747e+00,\n",
       "         2.44328583e+00],\n",
       "       [ 1.78549948e+01,  2.37082088e+00,  2.06587728e+00,\n",
       "         2.29457885e+00],\n",
       "       [ 1.61960181e+01,  2.20789072e+00,  1.94871215e+00,\n",
       "         2.14513901e+00],\n",
       "       [ 1.46328179e+01,  2.04731924e+00,  1.82760599e+00,\n",
       "         1.99616714e+00],\n",
       "       [ 1.31711882e+01,  1.89020316e+00,  1.70435269e+00,\n",
       "         1.84890954e+00],\n",
       "       [ 1.18143578e+01,  1.73760932e+00,  1.58068017e+00,\n",
       "         1.70460046e+00],\n",
       "       [ 1.05632256e+01,  1.59053025e+00,  1.45819835e+00,\n",
       "         1.56440777e+00],\n",
       "       [ 9.41666667e+00,  1.44984507e+00,  1.33835494e+00,\n",
       "         1.42938586e+00]])"
      ]
     },
     "execution_count": 261,
     "metadata": {},
     "output_type": "execute_result"
    }
   ],
   "source": [
    "W_total"
   ]
  },
  {
   "cell_type": "markdown",
   "id": "defensive-invasion",
   "metadata": {},
   "source": [
    "Приведем картину распределения весов для признаков в 3D, несмотря на обзую низкую наглядность графика в данном слуяае."
   ]
  },
  {
   "cell_type": "code",
   "execution_count": 262,
   "id": "excess-zambia",
   "metadata": {
    "scrolled": false
   },
   "outputs": [
    {
     "data": {
      "image/png": "[encoded data removed]",
      "text/plain": [
       "<Figure size 1080x720 with 1 Axes>"
      ]
     },
     "metadata": {
      "needs_background": "light"
     },
     "output_type": "display_data"
    }
   ],
   "source": [
    "fig = plt.figure(figsize=(15,10))\n",
    "ax = fig.add_subplot(111, projection='3d')\n",
    "\n",
    "ax.scatter(W_total[:, 0], W_total[:, 1], lambda_array, label='W0, W1')\n",
    "ax.scatter(W_total[:, 2], W_total[:, 3], lambda_array, label='W2, W3' )\n",
    "ax.legend()\n",
    "ax.set_xlabel('W0, W2')\n",
    "ax.set_ylabel('W1, W3')\n",
    "ax.set_zlabel('lambda')\n",
    "plt.show()"
   ]
  },
  {
   "cell_type": "markdown",
   "id": "greek-poison",
   "metadata": {},
   "source": [
    "Распределение весов в зависимости от Lambda. Совмещенный график"
   ]
  },
  {
   "cell_type": "code",
   "execution_count": 263,
   "id": "written-irrigation",
   "metadata": {},
   "outputs": [
    {
     "data": {
      "text/plain": [
       "[<matplotlib.lines.Line2D at 0x1a39c449a60>]"
      ]
     },
     "execution_count": 263,
     "metadata": {},
     "output_type": "execute_result"
    },
    {
     "data": {
      "image/png": "[encoded data removed]",
      "text/plain": [
       "<Figure size 936x432 with 1 Axes>"
      ]
     },
     "metadata": {
      "needs_background": "light"
     },
     "output_type": "display_data"
    }
   ],
   "source": [
    "plt.figure(figsize=(13, 6))\n",
    "plt.xlabel('weights')\n",
    "plt.ylabel('lambda')\n",
    "plt.yscale('log')\n",
    "#plt.ylim(lambda_array.min(), lambda_array.max())\n",
    "#plt.xlim(W_total[:,3].min(), W_total[:,1].max())\n",
    "plt.title(\"Веса по каждому признаку в зависимости от коэффициента регуляризации\")\n",
    "plt.plot(W_total[:,0], lambda_array, color='g')\n",
    "plt.plot(W_total[:,1], lambda_array, color='r')\n",
    "plt.plot(W_total[:,2], lambda_array, color='b')\n",
    "plt.plot(W_total[:,3], lambda_array, color='grey')"
   ]
  },
  {
   "cell_type": "markdown",
   "id": "brazilian-andorra",
   "metadata": {},
   "source": [
    "График нормализованных значений весов по L2 норме в зависимости от величины Lambda"
   ]
  },
  {
   "cell_type": "code",
   "execution_count": 264,
   "id": "convertible-checkout",
   "metadata": {},
   "outputs": [],
   "source": [
    "W_normal = np.array(list(map(norm, W_total)))"
   ]
  },
  {
   "cell_type": "code",
   "execution_count": 265,
   "id": "ideal-shoot",
   "metadata": {
    "scrolled": true
   },
   "outputs": [
    {
     "data": {
      "text/plain": [
       "[<matplotlib.lines.Line2D at 0x1a39c6d44c0>]"
      ]
     },
     "execution_count": 265,
     "metadata": {},
     "output_type": "execute_result"
    },
    {
     "data": {
      "image/png": "[encoded data removed]",
      "text/plain": [
       "<Figure size 936x432 with 1 Axes>"
      ]
     },
     "metadata": {
      "needs_background": "light"
     },
     "output_type": "display_data"
    }
   ],
   "source": [
    "plt.figure(figsize=(13, 6))\n",
    "plt.xlabel('weights')\n",
    "plt.ylabel('lambda')\n",
    "plt.yscale('log')\n",
    "plt.ylim(lambda_array.min(), lambda_array.max())\n",
    "plt.xlim(W_normal.min(), W_normal.max())\n",
    "plt.title(\"Объединенные веса в зависимости от коэффициента регуляризации\")\n",
    "plt.plot(W_normal, lambda_array, color='r')"
   ]
  },
  {
   "cell_type": "markdown",
   "id": "still-panama",
   "metadata": {},
   "source": [
    "**Выводы**  \n",
    "По результатам построения графиков все выглядит так, что с увеличением лямбды веса стремятся к уменьшению, что согласуется с теорией.  \n",
    "При этом для маленьких значений коэффициента веса остаются сравнительно стабильными достаточно долгое время.\n",
    "Можно предположить, что для каждого набора данных существует оптимальный коэффициент регуляризации.\n"
   ]
  },
  {
   "cell_type": "code",
   "execution_count": null,
   "id": "taken-municipality",
   "metadata": {},
   "outputs": [],
   "source": []
  },
  {
   "cell_type": "markdown",
   "id": "desirable-tomato",
   "metadata": {},
   "source": [
    "**2. Напишите функцию наподобие gradient_descent_reg_l2, но для применения L1-регуляризации.**"
   ]
  },
  {
   "cell_type": "markdown",
   "id": "applicable-minutes",
   "metadata": {},
   "source": [
    "Исходная функция с L2 регуляризацией."
   ]
  },
  {
   "cell_type": "code",
   "execution_count": null,
   "id": "worse-yukon",
   "metadata": {},
   "outputs": [],
   "source": [
    "def gradient_descent_reg_l2(X, y, iterations, eta, reg):\n",
    "    W = np.random.randn(X.shape[1])\n",
    "    n = X.shape[0]\n",
    "    \n",
    "    for i in range(0, iterations):\n",
    "        y_pred = np.dot(X, W)\n",
    "        err = calc_mse(y, y_pred)\n",
    "        \n",
    "        dQ = 2/n * X.T @ (y_pred - y) # градиент функции ошибки\n",
    "        dReg = reg * W # градиент регуляризации\n",
    "        \n",
    "        W -= eta * (dQ + dReg)\n",
    "        \n",
    "        if i % (iterations / 10) == 0:\n",
    "            print(f'Iter: {i}, weights: {W}, error {err}')\n",
    "    \n",
    "    print(f'Final MSE: {calc_mse(y, np.dot(X, W))}')\n",
    "    return W"
   ]
  },
  {
   "cell_type": "markdown",
   "id": "seven-aruba",
   "metadata": {},
   "source": [
    "Производная:\n",
    "    $$d\\lambda |w| = lambda$$  \n",
    "Нужно также учитывать знак, который был перед применением производной.  \n",
    "Для этого применим функцию np.sign()"
   ]
  },
  {
   "cell_type": "markdown",
   "id": "disturbed-glance",
   "metadata": {},
   "source": [
    "Модифицированная функция для мспользования L1 регуляризаци"
   ]
  },
  {
   "cell_type": "code",
   "execution_count": null,
   "id": "cloudy-territory",
   "metadata": {},
   "outputs": [],
   "source": [
    "def gradient_descent_reg_l1(X, y, iterations, eta, reg):\n",
    "    W = np.random.randn(X.shape[1])\n",
    "    n = X.shape[0]\n",
    "    \n",
    "    for i in range(0, iterations):\n",
    "        y_pred = np.dot(X, W)\n",
    "        err = calc_mse(y, y_pred)\n",
    "        dQ = 2/n * X.T @ (y_pred - y) # градиент функции ошибки\n",
    "        \n",
    "        #---------------------------------------------------------------\n",
    "        #CHANGES\n",
    "        #---------------------------------------------------------------\n",
    "        dReg = reg * np.sign(W) # градиент регуляризации\n",
    "        #----------------------------------------------------------------\n",
    "        \n",
    "        W -= eta * (dQ + dReg)\n",
    "        \n",
    "        if i % (iterations / 10) == 0:\n",
    "            print(f'Iter: {i}, weights: {W}, error {err}')\n",
    "    \n",
    "    print(f'Final MSE: {calc_mse(y, np.dot(X, W))}')\n",
    "    return W"
   ]
  },
  {
   "cell_type": "code",
   "execution_count": null,
   "id": "roman-vocabulary",
   "metadata": {},
   "outputs": [],
   "source": []
  },
  {
   "cell_type": "markdown",
   "id": "practical-coalition",
   "metadata": {},
   "source": [
    "3. **Можно ли к одному и тому же признаку применить сразу и нормализацию, и стандартизацию?**"
   ]
  },
  {
   "cell_type": "markdown",
   "id": "royal-convert",
   "metadata": {},
   "source": [
    "Как и говорилось на занятии, можно, но в значительной мере бесмыссленно. Т.к. конечный результат большей частью будет определятся тем, что было применено последним."
   ]
  },
  {
   "cell_type": "code",
   "execution_count": null,
   "id": "assured-devil",
   "metadata": {},
   "outputs": [],
   "source": []
  },
  {
   "cell_type": "markdown",
   "id": "prerequisite-compensation",
   "metadata": {},
   "source": [
    "**4. *Сгенерируйте датасет при помощи <code>sklearn.datasets.make_regression</code> и обучите линейную модель при помощи градиентного и стохастического градиентного спуска. Нанесите среднеквадратичную ошибку для обоих методов на один график, сделайте выводы о разнице скорости сходимости каждого из методов.**"
   ]
  },
  {
   "cell_type": "code",
   "execution_count": 266,
   "id": "proved-cricket",
   "metadata": {},
   "outputs": [],
   "source": [
    "from sklearn.datasets import make_regression"
   ]
  },
  {
   "cell_type": "code",
   "execution_count": 267,
   "id": "broadband-closer",
   "metadata": {},
   "outputs": [],
   "source": [
    "X, y = make_regression(n_samples = 1000, n_features=4, noise = 1.5)"
   ]
  },
  {
   "cell_type": "code",
   "execution_count": 268,
   "id": "caroline-nelson",
   "metadata": {},
   "outputs": [],
   "source": [
    "iterations = 10000"
   ]
  },
  {
   "cell_type": "code",
   "execution_count": 269,
   "id": "reported-windows",
   "metadata": {},
   "outputs": [],
   "source": [
    "epsilon = 1e-10\n",
    "eta = 1e-4"
   ]
  },
  {
   "cell_type": "code",
   "execution_count": 270,
   "id": "dietary-nepal",
   "metadata": {},
   "outputs": [],
   "source": [
    "def gd(X, y, iterations, eta, epsilon):\n",
    "    mse_array = list()\n",
    "    W_old = [1, 1]\n",
    "    \n",
    "    W = np.random.randn(X.shape[1])\n",
    "    n = X.shape[0]\n",
    "    \n",
    "    for i in range(0, iterations):\n",
    "        y_pred = np.dot(X, W)\n",
    "        err = calc_mse(y, y_pred)\n",
    "        #-----------------------------------------------\n",
    "        mse_array.append([i, err])\n",
    "        W_old = W.copy() \n",
    "        #------------------------------------------------\n",
    "        dQ = 2/n * X.T @ (y_pred - y) # градиент функции ошибки\n",
    "        W -= (eta * dQ)\n",
    "        #if i % (iterations / 10) == 0:\n",
    "            #print(f'Iter: {i}, weights: {W}, error {err}')\n",
    "        #--------------------------------------------------\n",
    "        if abs(norm(W_old)-norm(W)) < epsilon:\n",
    "            break\n",
    "        #-------------------------------------------------\n",
    "    print(f'Final MSE: {calc_mse(y, np.dot(X, W))}')\n",
    "    return mse_array"
   ]
  },
  {
   "cell_type": "code",
   "execution_count": 271,
   "id": "polish-breach",
   "metadata": {},
   "outputs": [],
   "source": [
    "def sgd(X, y, iterations, batch_size, eta, epsilon):\n",
    "    mse_array = list()\n",
    "    W_old = None\n",
    "    #-----------------------------------------------\n",
    "    W = np.random.randn(X.shape[1])\n",
    "    n = X.shape[0]\n",
    "    \n",
    "    n_batch = n // batch_size    \n",
    "    if n % batch_size != 0:\n",
    "        n_batch += 1\n",
    "        \n",
    "    for i in range(0, iterations):        \n",
    "        for b in range(n_batch):\n",
    "            start = batch_size * b\n",
    "            end = batch_size * (b + 1)            \n",
    "        \n",
    "            X_tmp = X[start : end, ]\n",
    "            y_tmp = y[start : end]\n",
    "            \n",
    "            y_pred = np.dot(X_tmp, W)\n",
    "            err = calc_mse(y_tmp, y_pred)\n",
    "            \n",
    "            mse_array.append([i, err])\n",
    "            \n",
    "            y_pred_tmp = np.dot(X_tmp, W)\n",
    "            \n",
    "            W_old = W.copy()\n",
    "            \n",
    "            dQ = 2/len(y_tmp) * X_tmp.T @ (y_pred_tmp - y_tmp) # градиент функции ошибки\n",
    "            W -= (eta * dQ)\n",
    "        \n",
    "        #if i % (iterations / 10) == 0:\n",
    "            #print(f'Iter: {i}, weights: {W}, error {err}')\n",
    "        #--------------------------------------------------\n",
    "        if abs(norm(W_old)-norm(W)) < epsilon:\n",
    "            break\n",
    "        #-------------------------------------------------\n",
    "    \n",
    "    print(f'Final MSE: {calc_mse(y, np.dot(X, W))}')\n",
    "    return mse_array"
   ]
  },
  {
   "cell_type": "code",
   "execution_count": 272,
   "id": "occupational-picnic",
   "metadata": {
    "scrolled": false
   },
   "outputs": [
    {
     "name": "stdout",
     "output_type": "stream",
     "text": [
      "Final MSE: 371.1879456169733\n"
     ]
    }
   ],
   "source": [
    "gd_data = np.array(gd(X, y, iterations, eta, epsilon))"
   ]
  },
  {
   "cell_type": "code",
   "execution_count": 276,
   "id": "animated-pixel",
   "metadata": {},
   "outputs": [
    {
     "name": "stdout",
     "output_type": "stream",
     "text": [
      "Final MSE: 2.453115986541278\n"
     ]
    }
   ],
   "source": [
    "batch_size = 4\n",
    "gcd_data = np.array(sgd(X, y, iterations, batch_size, eta, epsilon))"
   ]
  },
  {
   "cell_type": "code",
   "execution_count": 277,
   "id": "physical-examination",
   "metadata": {},
   "outputs": [],
   "source": [
    "values = np.arange(0, iterations)"
   ]
  },
  {
   "cell_type": "markdown",
   "id": "cubic-nepal",
   "metadata": {},
   "source": [
    "Выведем полученные значения в графике"
   ]
  },
  {
   "cell_type": "code",
   "execution_count": 278,
   "id": "enclosed-religious",
   "metadata": {},
   "outputs": [
    {
     "data": {
      "image/png": "[encoded data removed]",
      "text/plain": [
       "<Figure size 864x432 with 1 Axes>"
      ]
     },
     "metadata": {
      "needs_background": "light"
     },
     "output_type": "display_data"
    }
   ],
   "source": [
    "fig, ax = plt.subplots()\n",
    "ax.plot(gd_data[:,0], gd_data[:,1], color='r', label = 'GD')\n",
    "ax.plot(gcd_data[:,0], gcd_data [:,1], color='g', label = 'SGD')\n",
    "ax.legend()\n",
    "plt.title('comparing of MSE value for GD and SGD')\n",
    "plt.xlabel('iterations')\n",
    "plt.ylabel('MSE')\n",
    "fig.set_figheight(6)\n",
    "fig.set_figwidth(12)\n",
    "plt.show()"
   ]
  },
  {
   "cell_type": "markdown",
   "id": "juvenile-start",
   "metadata": {},
   "source": [
    "При большой величине Batch_size графики достаточно неплохо совпадают, но при более низких параметрах SGD достигает передельного значения намного быстрее.  \n",
    "При этом SGD в данной реализации требует значительно больше времени на расчет.\n",
    "Более широкая линия графика в SGD позволяет предположить  колебания MSE, но при общем снижении ее величины."
   ]
  },
  {
   "cell_type": "code",
   "execution_count": null,
   "id": "brown-canvas",
   "metadata": {},
   "outputs": [],
   "source": []
  }
 ],
 "metadata": {
  "kernelspec": {
   "display_name": "Python 3",
   "language": "python",
   "name": "python3"
  },
  "language_info": {
   "codemirror_mode": {
    "name": "ipython",
    "version": 3
   },
   "file_extension": ".py",
   "mimetype": "text/x-python",
   "name": "python",
   "nbconvert_exporter": "python",
   "pygments_lexer": "ipython3",
   "version": "3.9.1"
  }
 },
 "nbformat": 4,
 "nbformat_minor": 5
}
