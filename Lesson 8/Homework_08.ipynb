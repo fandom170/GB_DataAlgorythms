{
 "cells": [
  {
   "cell_type": "code",
   "execution_count": 1,
   "id": "drawn-australian",
   "metadata": {},
   "outputs": [],
   "source": [
    "import pandas as pd\n",
    "import numpy as np\n",
    "import matplotlib.pyplot as plt"
   ]
  },
  {
   "cell_type": "code",
   "execution_count": 5,
   "id": "deluxe-signature",
   "metadata": {},
   "outputs": [],
   "source": [
    "from sklearn import datasets"
   ]
  },
  {
   "cell_type": "code",
   "execution_count": 12,
   "id": "rubber-nerve",
   "metadata": {},
   "outputs": [],
   "source": [
    "from sklearn.tree import DecisionTreeClassifier"
   ]
  },
  {
   "cell_type": "code",
   "execution_count": 19,
   "id": "fresh-collector",
   "metadata": {},
   "outputs": [],
   "source": [
    "from sklearn.model_selection import train_test_split"
   ]
  },
  {
   "cell_type": "code",
   "execution_count": 54,
   "id": "usual-resolution",
   "metadata": {},
   "outputs": [],
   "source": [
    "from sklearn.neighbors import KNeighborsClassifier"
   ]
  },
  {
   "cell_type": "code",
   "execution_count": 8,
   "id": "subjective-cincinnati",
   "metadata": {},
   "outputs": [],
   "source": [
    "def standard_scale(x):\n",
    "    res = (x - x.mean(axis=0)) / x.std(axis=0)\n",
    "    return res"
   ]
  },
  {
   "cell_type": "code",
   "execution_count": 47,
   "id": "addressed-transsexual",
   "metadata": {},
   "outputs": [],
   "source": [
    "def accuracy(pred, y):\n",
    "    return (sum(pred == y) / len(y))"
   ]
  },
  {
   "cell_type": "code",
   "execution_count": null,
   "id": "meaning-queensland",
   "metadata": {},
   "outputs": [],
   "source": []
  },
  {
   "cell_type": "markdown",
   "id": "dressed-communist",
   "metadata": {},
   "source": [
    "**1. Обучить любую модель классификации на датасете IRIS до применения самописного PCA (2 компоненты) и после него. Сравнить качество классификации по отложенной выборке.**"
   ]
  },
  {
   "cell_type": "code",
   "execution_count": 6,
   "id": "multiple-telescope",
   "metadata": {},
   "outputs": [],
   "source": [
    "iris = datasets.load_iris()\n",
    "X = iris.data"
   ]
  },
  {
   "cell_type": "code",
   "execution_count": 15,
   "id": "hispanic-mouth",
   "metadata": {},
   "outputs": [],
   "source": [
    "y = iris.target"
   ]
  },
  {
   "cell_type": "code",
   "execution_count": 7,
   "id": "subjective-prize",
   "metadata": {},
   "outputs": [],
   "source": [
    "X = X.astype(float)"
   ]
  },
  {
   "cell_type": "code",
   "execution_count": 9,
   "id": "revolutionary-radar",
   "metadata": {},
   "outputs": [],
   "source": [
    "X = standard_scale(X)"
   ]
  },
  {
   "cell_type": "code",
   "execution_count": null,
   "id": "wanted-holocaust",
   "metadata": {},
   "outputs": [],
   "source": []
  },
  {
   "cell_type": "code",
   "execution_count": 25,
   "id": "pleasant-delight",
   "metadata": {},
   "outputs": [],
   "source": [
    "# Найдем собственные векторы и собственные значения\n",
    "covariance_matrix = X.T @ X"
   ]
  },
  {
   "cell_type": "code",
   "execution_count": 26,
   "id": "varying-greek",
   "metadata": {},
   "outputs": [],
   "source": [
    "eig_values, eig_vectors = np.linalg.eig(covariance_matrix)"
   ]
  },
  {
   "cell_type": "code",
   "execution_count": 28,
   "id": "gentle-cedar",
   "metadata": {},
   "outputs": [],
   "source": [
    "# сформируем список кортежей (собственное значение, собственный вектор)\n",
    "eig_pairs = [(np.abs(eig_values[i]), eig_vectors[:, i]) for i in range(len(eig_values))]"
   ]
  },
  {
   "cell_type": "code",
   "execution_count": 29,
   "id": "timely-porter",
   "metadata": {},
   "outputs": [],
   "source": [
    "# и отсортируем список по убыванию собственных значений\n",
    "eig_pairs.sort(key=lambda x: x[0], reverse=True)"
   ]
  },
  {
   "cell_type": "code",
   "execution_count": 30,
   "id": "familiar-desperate",
   "metadata": {},
   "outputs": [
    {
     "name": "stdout",
     "output_type": "stream",
     "text": [
      "Собственные значения и собственные векторы в порядке убывания:\n",
      "(437.77467247979916, array([ 0.52106591, -0.26934744,  0.5804131 ,  0.56485654]))\n",
      "(137.10457072021052, array([-0.37741762, -0.92329566, -0.02449161, -0.06694199]))\n",
      "(22.01353133569726, array([-0.71956635,  0.24438178,  0.14212637,  0.63427274]))\n",
      "(3.107225464292839, array([ 0.26128628, -0.12350962, -0.80144925,  0.52359713]))\n"
     ]
    }
   ],
   "source": [
    "print('Собственные значения и собственные векторы в порядке убывания:')\n",
    "for i in eig_pairs:\n",
    "    print(i)"
   ]
  },
  {
   "cell_type": "code",
   "execution_count": 31,
   "id": "statistical-metadata",
   "metadata": {},
   "outputs": [
    {
     "name": "stdout",
     "output_type": "stream",
     "text": [
      "Доля дисперсии, описываемая каждой из компонент \n",
      "[72.96244541329989, 22.850761786701764, 3.6689218892828777, 0.5178709107154734]\n",
      "Кумулятивная доля дисперсии по компонентам \n",
      "[ 72.96244541  95.8132072   99.48212909 100.        ]\n"
     ]
    }
   ],
   "source": [
    "eig_sum = sum(eig_values)\n",
    "var_exp = [(i / eig_sum) * 100 for i in sorted(eig_values, reverse=True)]\n",
    "cum_var_exp = np.cumsum(var_exp)\n",
    "print(f'Доля дисперсии, описываемая каждой из компонент \\n{var_exp}')\n",
    "\n",
    "# а теперь оценим кумулятивную (то есть накапливаемую) дисперсию при учитывании каждой из компонент\n",
    "print(f'Кумулятивная доля дисперсии по компонентам \\n{cum_var_exp}')"
   ]
  },
  {
   "cell_type": "code",
   "execution_count": 32,
   "id": "scenic-while",
   "metadata": {},
   "outputs": [],
   "source": [
    "# Сформируем вектор весов из собственных векторов, соответствующих первым двум главным компонентам\n",
    "W = np.hstack([eig_pairs[i][1].reshape(4,1) for i in range(2)])"
   ]
  },
  {
   "cell_type": "code",
   "execution_count": 33,
   "id": "pointed-america",
   "metadata": {},
   "outputs": [],
   "source": [
    "# Сформируем новую матрицу \"объекты-признаки\"\n",
    "X_pca = X.dot(W)"
   ]
  },
  {
   "cell_type": "code",
   "execution_count": null,
   "id": "deluxe-newfoundland",
   "metadata": {},
   "outputs": [],
   "source": []
  },
  {
   "cell_type": "code",
   "execution_count": null,
   "id": "educational-techno",
   "metadata": {},
   "outputs": [],
   "source": []
  },
  {
   "cell_type": "code",
   "execution_count": 35,
   "id": "continental-mining",
   "metadata": {},
   "outputs": [],
   "source": [
    "X_train, X_test, y_train, y_test = train_test_split(X, y, test_size=0.33, random_state=10, shuffle=True)"
   ]
  },
  {
   "cell_type": "code",
   "execution_count": 39,
   "id": "marked-translation",
   "metadata": {},
   "outputs": [],
   "source": [
    "X_train_pca, X_test_pca, y_train_pca, y_test_pca = train_test_split(X_pca, y, test_size=0.33, random_state=11, shuffle=True)"
   ]
  },
  {
   "cell_type": "code",
   "execution_count": 40,
   "id": "radio-relevance",
   "metadata": {},
   "outputs": [],
   "source": [
    "model_1 = DecisionTreeClassifier()"
   ]
  },
  {
   "cell_type": "code",
   "execution_count": 41,
   "id": "separate-liverpool",
   "metadata": {},
   "outputs": [
    {
     "data": {
      "text/plain": [
       "DecisionTreeClassifier()"
      ]
     },
     "execution_count": 41,
     "metadata": {},
     "output_type": "execute_result"
    }
   ],
   "source": [
    "model_1.fit(X_train, y_train)"
   ]
  },
  {
   "cell_type": "code",
   "execution_count": 42,
   "id": "uniform-battle",
   "metadata": {},
   "outputs": [],
   "source": [
    "model_pca = DecisionTreeClassifier()"
   ]
  },
  {
   "cell_type": "code",
   "execution_count": 43,
   "id": "canadian-fraud",
   "metadata": {},
   "outputs": [
    {
     "data": {
      "text/plain": [
       "DecisionTreeClassifier()"
      ]
     },
     "execution_count": 43,
     "metadata": {},
     "output_type": "execute_result"
    }
   ],
   "source": [
    "model_pca.fit(X_train_pca, y_train_pca)"
   ]
  },
  {
   "cell_type": "code",
   "execution_count": null,
   "id": "indoor-hunter",
   "metadata": {},
   "outputs": [],
   "source": []
  },
  {
   "cell_type": "code",
   "execution_count": 49,
   "id": "czech-temple",
   "metadata": {},
   "outputs": [],
   "source": [
    "y_pred = model_1.predict(X_test)"
   ]
  },
  {
   "cell_type": "code",
   "execution_count": 48,
   "id": "listed-heaven",
   "metadata": {},
   "outputs": [],
   "source": [
    "y_pred_pca = model_pca.predict(X_test_pca)"
   ]
  },
  {
   "cell_type": "code",
   "execution_count": 51,
   "id": "indonesian-formation",
   "metadata": {},
   "outputs": [
    {
     "data": {
      "text/plain": [
       "0.9"
      ]
     },
     "execution_count": 51,
     "metadata": {},
     "output_type": "execute_result"
    }
   ],
   "source": [
    "accuracy(y_pred, y_test)"
   ]
  },
  {
   "cell_type": "code",
   "execution_count": 52,
   "id": "trying-worship",
   "metadata": {},
   "outputs": [
    {
     "data": {
      "text/plain": [
       "0.84"
      ]
     },
     "execution_count": 52,
     "metadata": {},
     "output_type": "execute_result"
    }
   ],
   "source": [
    "accuracy(y_pred_pca, y_test_pca)"
   ]
  },
  {
   "cell_type": "code",
   "execution_count": null,
   "id": "organized-swedish",
   "metadata": {},
   "outputs": [],
   "source": []
  },
  {
   "cell_type": "code",
   "execution_count": 55,
   "id": "reduced-finger",
   "metadata": {},
   "outputs": [],
   "source": [
    "model_2 = KNeighborsClassifier()"
   ]
  },
  {
   "cell_type": "code",
   "execution_count": 59,
   "id": "mexican-pakistan",
   "metadata": {},
   "outputs": [
    {
     "data": {
      "text/plain": [
       "KNeighborsClassifier()"
      ]
     },
     "execution_count": 59,
     "metadata": {},
     "output_type": "execute_result"
    }
   ],
   "source": [
    "model_2.fit(X_train, y_train)"
   ]
  },
  {
   "cell_type": "code",
   "execution_count": 63,
   "id": "satisfied-future",
   "metadata": {},
   "outputs": [],
   "source": [
    "y_pred_2 = model_2.predict(X_test)"
   ]
  },
  {
   "cell_type": "code",
   "execution_count": 64,
   "id": "vital-merchant",
   "metadata": {},
   "outputs": [
    {
     "data": {
      "text/plain": [
       "0.94"
      ]
     },
     "execution_count": 64,
     "metadata": {},
     "output_type": "execute_result"
    }
   ],
   "source": [
    "accuracy(y_pred_2, y_test)"
   ]
  },
  {
   "cell_type": "code",
   "execution_count": null,
   "id": "sporting-frost",
   "metadata": {},
   "outputs": [],
   "source": []
  },
  {
   "cell_type": "code",
   "execution_count": 65,
   "id": "through-bosnia",
   "metadata": {},
   "outputs": [],
   "source": [
    "model_2_pca = KNeighborsClassifier()"
   ]
  },
  {
   "cell_type": "code",
   "execution_count": 66,
   "id": "alone-frederick",
   "metadata": {},
   "outputs": [
    {
     "data": {
      "text/plain": [
       "KNeighborsClassifier()"
      ]
     },
     "execution_count": 66,
     "metadata": {},
     "output_type": "execute_result"
    }
   ],
   "source": [
    "model_2_pca.fit(X_train_pca, y_train_pca)"
   ]
  },
  {
   "cell_type": "code",
   "execution_count": 68,
   "id": "toxic-station",
   "metadata": {},
   "outputs": [],
   "source": [
    "y_pred_2_pca = model_2_pca.predict(X_test_pca)"
   ]
  },
  {
   "cell_type": "code",
   "execution_count": 69,
   "id": "instant-brisbane",
   "metadata": {},
   "outputs": [
    {
     "data": {
      "text/plain": [
       "0.88"
      ]
     },
     "execution_count": 69,
     "metadata": {},
     "output_type": "execute_result"
    }
   ],
   "source": [
    "accuracy(y_pred_2_pca, y_test_pca)"
   ]
  },
  {
   "cell_type": "code",
   "execution_count": null,
   "id": "advised-establishment",
   "metadata": {},
   "outputs": [],
   "source": []
  },
  {
   "cell_type": "markdown",
   "id": "negative-excuse",
   "metadata": {},
   "source": [
    "**2. *Написать свою реализацию метода главных компонент с помощью сингулярного разложения с использованием функции [numpy.linalg.svd()](https://docs.scipy.org/doc/numpy/reference/generated/numpy.linalg.svd.html)**"
   ]
  },
  {
   "cell_type": "code",
   "execution_count": 135,
   "id": "brave-upset",
   "metadata": {},
   "outputs": [],
   "source": [
    "from numpy import diag"
   ]
  },
  {
   "cell_type": "code",
   "execution_count": 334,
   "id": "cooperative-bracket",
   "metadata": {},
   "outputs": [],
   "source": [
    "def pca_svd(X, n):\n",
    "    print(X.shape)\n",
    "    # SVD декомпозиция матрицы X\n",
    "    u, s, vt = np.linalg.svd(X)#, full_matrices=False)\n",
    "    # вывод на печать элементов:\n",
    "    print(u.shape, s.shape, vh.shape)\n",
    "    # обрезаем результаты разложения матрицы по количеству необходимых измерений\n",
    "    # sigma = zeros((x.shape[0], x.shape[1])) \n",
    "    #sh[:X.shape[0], :X.shape[0]] = diag(s) #returns error. need transposing?\n",
    "    #sh = sh[:, :n]    \n",
    "    uh = u[:,:n]    \n",
    "    vth = vt[:n, :]\n",
    "    # вывод на печать формы уменьшенных компонент\n",
    "    #print(uh.shape, sh.shape, vth.shape)\n",
    "    print(uh.shape, vth.shape)\n",
    "    \n",
    "    #сравнение с начальным массивом\n",
    "    #x_init = uh @ np.diag(sh) @ vth \n",
    "    #print(x_init==x)\n",
    "    \n",
    "    #преобразование матрицы\n",
    "    #T = u.dot(sh)\n",
    "    X_svd = X.dot(vth.T)\n",
    "    \n",
    "    return X_svd"
   ]
  },
  {
   "cell_type": "markdown",
   "id": "twenty-richmond",
   "metadata": {},
   "source": [
    "Проводим вычисление"
   ]
  },
  {
   "cell_type": "code",
   "execution_count": 335,
   "id": "figured-listing",
   "metadata": {},
   "outputs": [
    {
     "name": "stdout",
     "output_type": "stream",
     "text": [
      "(150, 4)\n",
      "(150, 150) (4,) (4, 4)\n",
      "(150, 2) (2, 4)\n"
     ]
    }
   ],
   "source": [
    "X_svd = pca_svd(X, 2)\n"
   ]
  },
  {
   "cell_type": "code",
   "execution_count": 306,
   "id": "dental-container",
   "metadata": {},
   "outputs": [
    {
     "data": {
      "text/plain": [
       "(150, 2)"
      ]
     },
     "execution_count": 306,
     "metadata": {},
     "output_type": "execute_result"
    }
   ],
   "source": [
    "X_svd.shape"
   ]
  },
  {
   "cell_type": "code",
   "execution_count": 308,
   "id": "foreign-notice",
   "metadata": {},
   "outputs": [
    {
     "data": {
      "text/plain": [
       "array([[-2.26470281, -0.4800266 ],\n",
       "       [-2.08096115,  0.67413356],\n",
       "       [-2.36422905,  0.34190802],\n",
       "       [-2.29938422,  0.59739451],\n",
       "       [-2.38984217, -0.64683538],\n",
       "       [-2.07563095, -1.48917752],\n",
       "       [-2.44402884, -0.0476442 ],\n",
       "       [-2.23284716, -0.22314807],\n",
       "       [-2.33464048,  1.11532768],\n",
       "       [-2.18432817,  0.46901356],\n",
       "       [-2.1663101 , -1.04369065],\n",
       "       [-2.32613087, -0.13307834],\n",
       "       [-2.2184509 ,  0.72867617],\n",
       "       [-2.6331007 ,  0.96150673],\n",
       "       [-2.1987406 , -1.86005711],\n",
       "       [-2.26221453, -2.68628449],\n",
       "       [-2.2075877 , -1.48360936],\n",
       "       [-2.19034951, -0.48883832],\n",
       "       [-1.898572  , -1.40501879],\n",
       "       [-2.34336905, -1.12784938],\n",
       "       [-1.914323  , -0.40885571],\n",
       "       [-2.20701284, -0.92412143],\n",
       "       [-2.7743447 , -0.45834367],\n",
       "       [-1.81866953, -0.08555853],\n",
       "       [-2.22716331, -0.13725446],\n",
       "       [-1.95184633,  0.62561859],\n",
       "       [-2.05115137, -0.24216355],\n",
       "       [-2.16857717, -0.52714953],\n",
       "       [-2.13956345, -0.31321781],\n",
       "       [-2.26526149,  0.3377319 ],\n",
       "       [-2.14012214,  0.50454069],\n",
       "       [-1.83159477, -0.42369507],\n",
       "       [-2.61494794, -1.79357586],\n",
       "       [-2.44617739, -2.15072788],\n",
       "       [-2.10997488,  0.46020184],\n",
       "       [-2.2078089 ,  0.2061074 ],\n",
       "       [-2.04514621, -0.66155811],\n",
       "       [-2.52733191, -0.59229277],\n",
       "       [-2.42963258,  0.90418004],\n",
       "       [-2.16971071, -0.26887896],\n",
       "       [-2.28647514, -0.44171539],\n",
       "       [-1.85812246,  2.33741516],\n",
       "       [-2.5536384 ,  0.47910069],\n",
       "       [-1.96444768, -0.47232667],\n",
       "       [-2.13705901, -1.14222926],\n",
       "       [-2.0697443 ,  0.71105273],\n",
       "       [-2.38473317, -1.1204297 ],\n",
       "       [-2.39437631,  0.38624687],\n",
       "       [-2.22944655, -0.99795976],\n",
       "       [-2.20383344, -0.00921636],\n",
       "       [ 1.10178118, -0.86297242],\n",
       "       [ 0.73133743, -0.59461473],\n",
       "       [ 1.24097932, -0.61629765],\n",
       "       [ 0.40748306,  1.75440399],\n",
       "       [ 1.0754747 ,  0.20842105],\n",
       "       [ 0.38868734,  0.59328364],\n",
       "       [ 0.74652974, -0.77301931],\n",
       "       [-0.48732274,  1.85242909],\n",
       "       [ 0.92790164, -0.03222608],\n",
       "       [ 0.01142619,  1.03401828],\n",
       "       [-0.11019628,  2.65407282],\n",
       "       [ 0.44069345,  0.06329519],\n",
       "       [ 0.56210831,  1.76472438],\n",
       "       [ 0.71956189,  0.18622461],\n",
       "       [-0.0333547 ,  0.43900321],\n",
       "       [ 0.87540719, -0.50906396],\n",
       "       [ 0.35025167,  0.19631173],\n",
       "       [ 0.15881005,  0.79209574],\n",
       "       [ 1.22509363,  1.6222438 ],\n",
       "       [ 0.1649179 ,  1.30260923],\n",
       "       [ 0.73768265, -0.39657156],\n",
       "       [ 0.47628719,  0.41732028],\n",
       "       [ 1.2341781 ,  0.93332573],\n",
       "       [ 0.6328582 ,  0.41638772],\n",
       "       [ 0.70266118,  0.06341182],\n",
       "       [ 0.87427365, -0.25079339],\n",
       "       [ 1.25650912,  0.07725602],\n",
       "       [ 1.35840512, -0.33131168],\n",
       "       [ 0.66480037,  0.22592785],\n",
       "       [-0.04025861,  1.05871855],\n",
       "       [ 0.13079518,  1.56227183],\n",
       "       [ 0.02345269,  1.57247559],\n",
       "       [ 0.24153827,  0.77725638],\n",
       "       [ 1.06109461,  0.63384324],\n",
       "       [ 0.22397877,  0.28777351],\n",
       "       [ 0.42913912, -0.84558224],\n",
       "       [ 1.04872805, -0.5220518 ],\n",
       "       [ 1.04453138,  1.38298872],\n",
       "       [ 0.06958832,  0.21950333],\n",
       "       [ 0.28347724,  1.32932464],\n",
       "       [ 0.27907778,  1.12002852],\n",
       "       [ 0.62456979, -0.02492303],\n",
       "       [ 0.33653037,  0.98840402],\n",
       "       [-0.36218338,  2.01923787],\n",
       "       [ 0.28858624,  0.85573032],\n",
       "       [ 0.09136066,  0.18119213],\n",
       "       [ 0.22771687,  0.38492008],\n",
       "       [ 0.57638829,  0.1548736 ],\n",
       "       [-0.44766702,  1.54379203],\n",
       "       [ 0.25673059,  0.5988518 ],\n",
       "       [ 1.84456887, -0.87042131],\n",
       "       [ 1.15788161,  0.69886986],\n",
       "       [ 2.20526679, -0.56201048],\n",
       "       [ 1.44015066,  0.04698759],\n",
       "       [ 1.86781222, -0.29504482],\n",
       "       [ 2.75187334, -0.8004092 ],\n",
       "       [ 0.36701769,  1.56150289],\n",
       "       [ 2.30243944, -0.42006558],\n",
       "       [ 2.00668647,  0.71143865],\n",
       "       [ 2.25977735, -1.92101038],\n",
       "       [ 1.36417549, -0.69275645],\n",
       "       [ 1.60267867,  0.42170045],\n",
       "       [ 1.8839007 , -0.41924965],\n",
       "       [ 1.2601151 ,  1.16226042],\n",
       "       [ 1.4676452 ,  0.44227159],\n",
       "       [ 1.59007732, -0.67624481],\n",
       "       [ 1.47143146, -0.25562182],\n",
       "       [ 2.42632899, -2.55666125],\n",
       "       [ 3.31069558, -0.01778095],\n",
       "       [ 1.26376667,  1.70674538],\n",
       "       [ 2.0377163 , -0.91046741],\n",
       "       [ 0.97798073,  0.57176432],\n",
       "       [ 2.89765149, -0.41364106],\n",
       "       [ 1.33323218,  0.48181122],\n",
       "       [ 1.7007339 , -1.01392187],\n",
       "       [ 1.95432671, -1.0077776 ],\n",
       "       [ 1.17510363,  0.31639447],\n",
       "       [ 1.02095055, -0.06434603],\n",
       "       [ 1.78834992,  0.18736121],\n",
       "       [ 1.86364755, -0.56229073],\n",
       "       [ 2.43595373, -0.25928443],\n",
       "       [ 2.30492772, -2.62632347],\n",
       "       [ 1.86270322,  0.17854949],\n",
       "       [ 1.11414774,  0.29292262],\n",
       "       [ 1.2024733 ,  0.81131527],\n",
       "       [ 2.79877045, -0.85680333],\n",
       "       [ 1.57625591, -1.06858111],\n",
       "       [ 1.3462921 , -0.42243061],\n",
       "       [ 0.92482492, -0.0172231 ],\n",
       "       [ 1.85204505, -0.67612817],\n",
       "       [ 2.01481043, -0.61388564],\n",
       "       [ 1.90178409, -0.68957549],\n",
       "       [ 1.15788161,  0.69886986],\n",
       "       [ 2.04055823, -0.8675206 ],\n",
       "       [ 1.9981471 , -1.04916875],\n",
       "       [ 1.87050329, -0.38696608],\n",
       "       [ 1.56458048,  0.89668681],\n",
       "       [ 1.5211705 , -0.26906914],\n",
       "       [ 1.37278779, -1.01125442],\n",
       "       [ 0.96065603,  0.02433167]])"
      ]
     },
     "execution_count": 308,
     "metadata": {},
     "output_type": "execute_result"
    }
   ],
   "source": [
    "X_svd"
   ]
  },
  {
   "cell_type": "markdown",
   "id": "brutal-restoration",
   "metadata": {},
   "source": [
    "Проверка результата при помощи стандартной функции sklearn."
   ]
  },
  {
   "cell_type": "code",
   "execution_count": 317,
   "id": "ambient-resident",
   "metadata": {},
   "outputs": [],
   "source": [
    "from numpy import array\n",
    "from sklearn.decomposition import TruncatedSVD"
   ]
  },
  {
   "cell_type": "code",
   "execution_count": 318,
   "id": "suspected-custom",
   "metadata": {},
   "outputs": [],
   "source": [
    "svd = TruncatedSVD(n_components=2)"
   ]
  },
  {
   "cell_type": "code",
   "execution_count": 322,
   "id": "unsigned-capacity",
   "metadata": {},
   "outputs": [
    {
     "data": {
      "text/plain": [
       "TruncatedSVD()"
      ]
     },
     "execution_count": 322,
     "metadata": {},
     "output_type": "execute_result"
    }
   ],
   "source": [
    "svd.fit(X)"
   ]
  },
  {
   "cell_type": "code",
   "execution_count": 324,
   "id": "passive-straight",
   "metadata": {},
   "outputs": [
    {
     "name": "stdout",
     "output_type": "stream",
     "text": [
      "[[-2.26470281  0.4800266 ]\n",
      " [-2.08096115 -0.67413356]\n",
      " [-2.36422905 -0.34190802]\n",
      " [-2.29938422 -0.59739451]\n",
      " [-2.38984217  0.64683538]\n",
      " [-2.07563095  1.48917752]\n",
      " [-2.44402884  0.0476442 ]\n",
      " [-2.23284716  0.22314807]\n",
      " [-2.33464048 -1.11532768]\n",
      " [-2.18432817 -0.46901356]\n",
      " [-2.1663101   1.04369065]\n",
      " [-2.32613087  0.13307834]\n",
      " [-2.2184509  -0.72867617]\n",
      " [-2.6331007  -0.96150673]\n",
      " [-2.1987406   1.86005711]\n",
      " [-2.26221453  2.68628449]\n",
      " [-2.2075877   1.48360936]\n",
      " [-2.19034951  0.48883832]\n",
      " [-1.898572    1.40501879]\n",
      " [-2.34336905  1.12784938]\n",
      " [-1.914323    0.40885571]\n",
      " [-2.20701284  0.92412143]\n",
      " [-2.7743447   0.45834367]\n",
      " [-1.81866953  0.08555853]\n",
      " [-2.22716331  0.13725446]\n",
      " [-1.95184633 -0.62561859]\n",
      " [-2.05115137  0.24216355]\n",
      " [-2.16857717  0.52714953]\n",
      " [-2.13956345  0.31321781]\n",
      " [-2.26526149 -0.3377319 ]\n",
      " [-2.14012214 -0.50454069]\n",
      " [-1.83159477  0.42369507]\n",
      " [-2.61494794  1.79357586]\n",
      " [-2.44617739  2.15072788]\n",
      " [-2.10997488 -0.46020184]\n",
      " [-2.2078089  -0.2061074 ]\n",
      " [-2.04514621  0.66155811]\n",
      " [-2.52733191  0.59229277]\n",
      " [-2.42963258 -0.90418004]\n",
      " [-2.16971071  0.26887896]\n",
      " [-2.28647514  0.44171539]\n",
      " [-1.85812246 -2.33741516]\n",
      " [-2.5536384  -0.47910069]\n",
      " [-1.96444768  0.47232667]\n",
      " [-2.13705901  1.14222926]\n",
      " [-2.0697443  -0.71105273]\n",
      " [-2.38473317  1.1204297 ]\n",
      " [-2.39437631 -0.38624687]\n",
      " [-2.22944655  0.99795976]\n",
      " [-2.20383344  0.00921636]\n",
      " [ 1.10178118  0.86297242]\n",
      " [ 0.73133743  0.59461473]\n",
      " [ 1.24097932  0.61629765]\n",
      " [ 0.40748306 -1.75440399]\n",
      " [ 1.0754747  -0.20842105]\n",
      " [ 0.38868734 -0.59328364]\n",
      " [ 0.74652974  0.77301931]\n",
      " [-0.48732274 -1.85242909]\n",
      " [ 0.92790164  0.03222608]\n",
      " [ 0.01142619 -1.03401828]\n",
      " [-0.11019628 -2.65407282]\n",
      " [ 0.44069345 -0.06329519]\n",
      " [ 0.56210831 -1.76472438]\n",
      " [ 0.71956189 -0.18622461]\n",
      " [-0.0333547  -0.43900321]\n",
      " [ 0.87540719  0.50906396]\n",
      " [ 0.35025167 -0.19631173]\n",
      " [ 0.15881005 -0.79209574]\n",
      " [ 1.22509363 -1.6222438 ]\n",
      " [ 0.1649179  -1.30260923]\n",
      " [ 0.73768265  0.39657156]\n",
      " [ 0.47628719 -0.41732028]\n",
      " [ 1.2341781  -0.93332573]\n",
      " [ 0.6328582  -0.41638772]\n",
      " [ 0.70266118 -0.06341182]\n",
      " [ 0.87427365  0.25079339]\n",
      " [ 1.25650912 -0.07725602]\n",
      " [ 1.35840512  0.33131168]\n",
      " [ 0.66480037 -0.22592785]\n",
      " [-0.04025861 -1.05871855]\n",
      " [ 0.13079518 -1.56227183]\n",
      " [ 0.02345269 -1.57247559]\n",
      " [ 0.24153827 -0.77725638]\n",
      " [ 1.06109461 -0.63384324]\n",
      " [ 0.22397877 -0.28777351]\n",
      " [ 0.42913912  0.84558224]\n",
      " [ 1.04872805  0.5220518 ]\n",
      " [ 1.04453138 -1.38298872]\n",
      " [ 0.06958832 -0.21950333]\n",
      " [ 0.28347724 -1.32932464]\n",
      " [ 0.27907778 -1.12002852]\n",
      " [ 0.62456979  0.02492303]\n",
      " [ 0.33653037 -0.98840402]\n",
      " [-0.36218338 -2.01923787]\n",
      " [ 0.28858624 -0.85573032]\n",
      " [ 0.09136066 -0.18119213]\n",
      " [ 0.22771687 -0.38492008]\n",
      " [ 0.57638829 -0.1548736 ]\n",
      " [-0.44766702 -1.54379203]\n",
      " [ 0.25673059 -0.5988518 ]\n",
      " [ 1.84456887  0.87042131]\n",
      " [ 1.15788161 -0.69886986]\n",
      " [ 2.20526679  0.56201048]\n",
      " [ 1.44015066 -0.04698759]\n",
      " [ 1.86781222  0.29504482]\n",
      " [ 2.75187334  0.8004092 ]\n",
      " [ 0.36701769 -1.56150289]\n",
      " [ 2.30243944  0.42006558]\n",
      " [ 2.00668647 -0.71143865]\n",
      " [ 2.25977735  1.92101038]\n",
      " [ 1.36417549  0.69275645]\n",
      " [ 1.60267867 -0.42170045]\n",
      " [ 1.8839007   0.41924965]\n",
      " [ 1.2601151  -1.16226042]\n",
      " [ 1.4676452  -0.44227159]\n",
      " [ 1.59007732  0.67624481]\n",
      " [ 1.47143146  0.25562182]\n",
      " [ 2.42632899  2.55666125]\n",
      " [ 3.31069558  0.01778095]\n",
      " [ 1.26376667 -1.70674538]\n",
      " [ 2.0377163   0.91046741]\n",
      " [ 0.97798073 -0.57176432]\n",
      " [ 2.89765149  0.41364106]\n",
      " [ 1.33323218 -0.48181122]\n",
      " [ 1.7007339   1.01392187]\n",
      " [ 1.95432671  1.0077776 ]\n",
      " [ 1.17510363 -0.31639447]\n",
      " [ 1.02095055  0.06434603]\n",
      " [ 1.78834992 -0.18736121]\n",
      " [ 1.86364755  0.56229073]\n",
      " [ 2.43595373  0.25928443]\n",
      " [ 2.30492772  2.62632347]\n",
      " [ 1.86270322 -0.17854949]\n",
      " [ 1.11414774 -0.29292262]\n",
      " [ 1.2024733  -0.81131527]\n",
      " [ 2.79877045  0.85680333]\n",
      " [ 1.57625591  1.06858111]\n",
      " [ 1.3462921   0.42243061]\n",
      " [ 0.92482492  0.0172231 ]\n",
      " [ 1.85204505  0.67612817]\n",
      " [ 2.01481043  0.61388564]\n",
      " [ 1.90178409  0.68957549]\n",
      " [ 1.15788161 -0.69886986]\n",
      " [ 2.04055823  0.8675206 ]\n",
      " [ 1.9981471   1.04916875]\n",
      " [ 1.87050329  0.38696608]\n",
      " [ 1.56458048 -0.89668681]\n",
      " [ 1.5211705   0.26906914]\n",
      " [ 1.37278779  1.01125442]\n",
      " [ 0.96065603 -0.02433167]]\n"
     ]
    }
   ],
   "source": [
    "result = svd.transform(X)\n",
    "print(result)"
   ]
  },
  {
   "cell_type": "markdown",
   "id": "altered-manner",
   "metadata": {},
   "source": [
    "Данные достаточно близки между собой, хотя и присутствуют определенные расхождения."
   ]
  },
  {
   "cell_type": "code",
   "execution_count": null,
   "id": "revised-support",
   "metadata": {},
   "outputs": [],
   "source": []
  }
 ],
 "metadata": {
  "kernelspec": {
   "display_name": "Python 3",
   "language": "python",
   "name": "python3"
  },
  "language_info": {
   "codemirror_mode": {
    "name": "ipython",
    "version": 3
   },
   "file_extension": ".py",
   "mimetype": "text/x-python",
   "name": "python",
   "nbconvert_exporter": "python",
   "pygments_lexer": "ipython3",
   "version": "3.9.1"
  }
 },
 "nbformat": 4,
 "nbformat_minor": 5
}
