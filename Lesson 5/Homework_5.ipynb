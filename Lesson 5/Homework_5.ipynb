{
 "cells": [
  {
   "cell_type": "code",
   "execution_count": 1,
   "id": "southern-brain",
   "metadata": {},
   "outputs": [],
   "source": [
    "import pandas as pd\n",
    "import numpy as np"
   ]
  },
  {
   "cell_type": "code",
   "execution_count": 2,
   "id": "cooperative-friend",
   "metadata": {},
   "outputs": [],
   "source": [
    "import matplotlib.pyplot as plt"
   ]
  },
  {
   "cell_type": "code",
   "execution_count": 3,
   "id": "timely-wednesday",
   "metadata": {},
   "outputs": [],
   "source": [
    "from sklearn.model_selection import train_test_split\n",
    "from sklearn.datasets import make_classification\n",
    "from sklearn.datasets import make_regression"
   ]
  },
  {
   "cell_type": "code",
   "execution_count": 4,
   "id": "respected-israeli",
   "metadata": {},
   "outputs": [],
   "source": [
    "import random\n",
    "from matplotlib.colors import ListedColormap"
   ]
  },
  {
   "cell_type": "markdown",
   "id": "worse-toddler",
   "metadata": {},
   "source": [
    "## Исходные функции"
   ]
  },
  {
   "cell_type": "code",
   "execution_count": 5,
   "id": "romantic-richards",
   "metadata": {},
   "outputs": [],
   "source": [
    "def get_bootstrap(data, labels, N):\n",
    "    n_samples = data.shape[0] # размер совпадает с исходной выборкой\n",
    "    bootstrap = []\n",
    "    \n",
    "    for i in range(N):\n",
    "        \n",
    "        sample_index = np.random.randint(0, n_samples, size=n_samples)\n",
    "        b_data = data[sample_index]\n",
    "        b_labels = labels[sample_index]\n",
    "        \n",
    "        bootstrap.append((b_data, b_labels))\n",
    "        \n",
    "    return bootstrap"
   ]
  },
  {
   "cell_type": "code",
   "execution_count": 6,
   "id": "cognitive-spanish",
   "metadata": {},
   "outputs": [],
   "source": [
    "def get_subsample(len_sample):\n",
    "    # будем сохранять не сами признаки, а их индексы\n",
    "    sample_indexes = list(range(len_sample))\n",
    "\n",
    "    len_subsample = int(np.sqrt(len_sample))\n",
    "    \n",
    "    subsample = np.random.choice(sample_indexes, size=len_subsample, replace=False)\n",
    "\n",
    "    return subsample"
   ]
  },
  {
   "cell_type": "code",
   "execution_count": 7,
   "id": "corresponding-momentum",
   "metadata": {},
   "outputs": [],
   "source": [
    "# Реализуем класс узла\n",
    "\n",
    "class Node:\n",
    "    \n",
    "    def __init__(self, index, t, true_branch, false_branch):\n",
    "        self.index = index  # индекс признака, по которому ведется сравнение с порогом в этом узле\n",
    "        self.t = t  # значение порога\n",
    "        self.true_branch = true_branch  # поддерево, удовлетворяющее условию в узле\n",
    "        self.false_branch = false_branch  # поддерево, не удовлетворяющее условию в узле"
   ]
  },
  {
   "cell_type": "code",
   "execution_count": 8,
   "id": "discrete-while",
   "metadata": {},
   "outputs": [],
   "source": [
    "# И класс терминального узла (листа)\n",
    "\n",
    "class Leaf:\n",
    "    \n",
    "    def __init__(self, data, labels):\n",
    "        self.data = data\n",
    "        self.labels = labels\n",
    "        self.prediction = self.predict()\n",
    "        \n",
    "    def predict(self):\n",
    "        # подсчет количества объектов разных классов\n",
    "        classes = {}  # сформируем словарь \"класс: количество объектов\"\n",
    "        for label in self.labels:\n",
    "            if label not in classes:\n",
    "                classes[label] = 0\n",
    "            classes[label] += 1\n",
    "            \n",
    "        # найдем класс, количество объектов которого будет максимальным в этом листе и вернем его    \n",
    "        prediction = max(classes, key=classes.get)\n",
    "        return prediction"
   ]
  },
  {
   "cell_type": "code",
   "execution_count": 9,
   "id": "brown-grant",
   "metadata": {},
   "outputs": [],
   "source": [
    "# Расчет критерия Джини\n",
    "\n",
    "def gini(labels):\n",
    "    #  подсчет количества объектов разных классов\n",
    "    classes = {}\n",
    "    for label in labels:\n",
    "        if label not in classes:\n",
    "            classes[label] = 0\n",
    "        classes[label] += 1\n",
    "    \n",
    "    #  расчет критерия\n",
    "    impurity = 1\n",
    "    for label in classes:\n",
    "        p = classes[label] / len(labels)\n",
    "        impurity -= p ** 2\n",
    "        \n",
    "    return impurity"
   ]
  },
  {
   "cell_type": "code",
   "execution_count": 10,
   "id": "alone-senate",
   "metadata": {},
   "outputs": [],
   "source": [
    "# Расчет прироста\n",
    "\n",
    "def gain(left_labels, right_labels, root_gini):\n",
    "\n",
    "    # доля выборки, ушедшая в левое поддерево\n",
    "    p = float(left_labels.shape[0]) / (left_labels.shape[0] + right_labels.shape[0])\n",
    "    \n",
    "    return root_gini - p * gini(left_labels) - (1 - p) * gini(right_labels)"
   ]
  },
  {
   "cell_type": "code",
   "execution_count": 11,
   "id": "composed-accommodation",
   "metadata": {},
   "outputs": [],
   "source": [
    "# Разбиение датасета в узле\n",
    "\n",
    "def split(data, labels, column_index, t):\n",
    "    \n",
    "    left = np.where(data[:, column_index] <= t)\n",
    "    right = np.where(data[:, column_index] > t)\n",
    "        \n",
    "    true_data = data[left]\n",
    "    false_data = data[right]\n",
    "    \n",
    "    true_labels = labels[left]\n",
    "    false_labels = labels[right]\n",
    "        \n",
    "    return true_data, false_data, true_labels, false_labels"
   ]
  },
  {
   "cell_type": "code",
   "execution_count": 12,
   "id": "stable-mauritius",
   "metadata": {},
   "outputs": [],
   "source": [
    "# Нахождение наилучшего разбиения\n",
    "\n",
    "def find_best_split(data, labels):\n",
    "    \n",
    "    #  обозначим минимальное количество объектов в узле\n",
    "    min_leaf_samples = 5\n",
    "\n",
    "    root_gini = gini(labels)\n",
    "\n",
    "    best_gain = 0\n",
    "    best_t = None\n",
    "    best_index = None\n",
    "    \n",
    "    n_features = data.shape[1]\n",
    "    \n",
    "    feature_subsample_indices = get_subsample(n_features) # выбираем случайные признаки\n",
    "    \n",
    "    for index in feature_subsample_indices:\n",
    "        # будем проверять только уникальные значения признака, исключая повторения\n",
    "        t_values = np.unique(data[:, index])\n",
    "        \n",
    "        for t in t_values:\n",
    "            true_data, false_data, true_labels, false_labels = split(data, labels, index, t)\n",
    "            #  пропускаем разбиения, в которых в узле остается менее 5 объектов\n",
    "#             if len(true_data) < min_leaf_samples or len(false_data) < min_leaf_samples:\n",
    "#                 continue\n",
    "            \n",
    "            current_gain = gain(true_labels, false_labels, root_gini)\n",
    "            \n",
    "            #  выбираем порог, на котором получается максимальный прирост качества\n",
    "            if current_gain > best_gain:\n",
    "                best_gain, best_t, best_index = current_gain, t, index\n",
    "\n",
    "    return best_gain, best_t, best_index"
   ]
  },
  {
   "cell_type": "code",
   "execution_count": 13,
   "id": "judicial-garden",
   "metadata": {},
   "outputs": [],
   "source": [
    "# Построение дерева с помощью рекурсивной функции\n",
    "\n",
    "def build_tree(data, labels):\n",
    "\n",
    "    gain, t, index = find_best_split(data, labels)\n",
    "\n",
    "    #  Базовый случай - прекращаем рекурсию, когда нет прироста в качества\n",
    "    if gain == 0:\n",
    "        return Leaf(data, labels)\n",
    "\n",
    "    true_data, false_data, true_labels, false_labels = split(data, labels, index, t)\n",
    "\n",
    "    # Рекурсивно строим два поддерева\n",
    "    true_branch = build_tree(true_data, true_labels)\n",
    "    false_branch = build_tree(false_data, false_labels)\n",
    "\n",
    "    # Возвращаем класс узла со всеми поддеревьями, то есть целого дерева\n",
    "    return Node(index, t, true_branch, false_branch)"
   ]
  },
  {
   "cell_type": "code",
   "execution_count": 14,
   "id": "proof-assembly",
   "metadata": {},
   "outputs": [],
   "source": [
    "def random_forest(data, labels, n_trees):\n",
    "    forest = []\n",
    "    bootstrap = get_bootstrap(data, labels, n_trees)\n",
    "    \n",
    "    for b_data, b_labels in bootstrap:\n",
    "        forest.append(build_tree(b_data, b_labels))\n",
    "        \n",
    "    return forest"
   ]
  },
  {
   "cell_type": "code",
   "execution_count": 15,
   "id": "asian-heart",
   "metadata": {},
   "outputs": [],
   "source": [
    "# Функция классификации отдельного объекта\n",
    "\n",
    "def classify_object(obj, node):\n",
    "\n",
    "    #  Останавливаем рекурсию, если достигли листа\n",
    "    if isinstance(node, Leaf):\n",
    "        answer = node.prediction\n",
    "        return answer\n",
    "\n",
    "    if obj[node.index] <= node.t:\n",
    "        return classify_object(obj, node.true_branch)\n",
    "    else:\n",
    "        return classify_object(obj, node.false_branch)"
   ]
  },
  {
   "cell_type": "code",
   "execution_count": 16,
   "id": "civic-links",
   "metadata": {},
   "outputs": [],
   "source": [
    "# функция формирования предсказания по выборке на одном дереве\n",
    "\n",
    "def predict(data, tree):\n",
    "    \n",
    "    classes = []\n",
    "    for obj in data:\n",
    "        prediction = classify_object(obj, tree)\n",
    "        classes.append(prediction)\n",
    "    return classes"
   ]
  },
  {
   "cell_type": "code",
   "execution_count": 17,
   "id": "defensive-bowling",
   "metadata": {},
   "outputs": [],
   "source": [
    "# предсказание голосованием деревьев\n",
    "\n",
    "def tree_vote(forest, data):\n",
    "\n",
    "    # добавим предсказания всех деревьев в список\n",
    "    predictions = []\n",
    "    for tree in forest:\n",
    "        predictions.append(predict(data, tree))\n",
    "#     print(predictions)\n",
    "\n",
    "    # сформируем список с предсказаниями для каждого объекта\n",
    "    predictions_per_object = list(zip(*predictions))\n",
    "#     print(predictions_per_object)\n",
    "\n",
    "    # выберем в качестве итогового предсказания для каждого объекта то,\n",
    "    # за которое проголосовало большинство деревьев\n",
    "    voted_predictions = []\n",
    "    for obj in predictions_per_object:\n",
    "        voted_predictions.append(max(set(obj), key=obj.count))\n",
    "        \n",
    "    return voted_predictions"
   ]
  },
  {
   "cell_type": "code",
   "execution_count": 18,
   "id": "adjusted-bosnia",
   "metadata": {},
   "outputs": [],
   "source": [
    "def accuracy_metric(actual, predicted):\n",
    "    correct = 0\n",
    "    for i in range(len(actual)):\n",
    "        if actual[i] == predicted[i]:\n",
    "            correct += 1\n",
    "    print(\"Nimber of correct answers is \", correct, \"of \", len(actual))\n",
    "    return correct / float(len(actual)) * 100.0"
   ]
  },
  {
   "cell_type": "markdown",
   "id": "pointed-tension",
   "metadata": {},
   "source": [
    "## Домашнее задание"
   ]
  },
  {
   "cell_type": "markdown",
   "id": "reliable-concentration",
   "metadata": {},
   "source": [
    "**1. Сформировать с помощью sklearn.make_classification датасет из 100 объектов с двумя признаками, обучить случайный лес из 1, 3, 10 и 50 деревьев и визуализировать их разделяющие гиперплоскости на графиках (по подобию визуализации деревьев из предыдущего урока, необходимо только заменить вызов функции predict на tree_vote).**\n"
   ]
  },
  {
   "cell_type": "code",
   "execution_count": 19,
   "id": "enabling-belize",
   "metadata": {},
   "outputs": [],
   "source": [
    "classification_data, classification_labels = make_classification(n_features=2, \n",
    "                                                                 n_informative=2, \n",
    "                                                                 n_classes=2, \n",
    "                                                                 n_redundant=0,\n",
    "                                                                 n_clusters_per_class=1, \n",
    "                                                                 random_state=250, \n",
    "                                                                 n_samples=100)"
   ]
  },
  {
   "cell_type": "code",
   "execution_count": 20,
   "id": "electric-surgery",
   "metadata": {
    "scrolled": true
   },
   "outputs": [
    {
     "data": {
      "image/png": "[encoded data removed]",
      "text/plain": [
       "<Figure size 432x432 with 1 Axes>"
      ]
     },
     "metadata": {
      "needs_background": "light"
     },
     "output_type": "display_data"
    }
   ],
   "source": [
    "# визуализируем сгенерированные данные\n",
    "\n",
    "colors = ListedColormap(['red', 'blue'])\n",
    "light_colors = ListedColormap(['lightcoral', 'lightblue'])\n",
    "\n",
    "plt.figure(figsize=(6,6))\n",
    "plt.scatter(classification_data[:, 0], classification_data[:, 1], \n",
    "              c=classification_labels, cmap=colors);"
   ]
  },
  {
   "cell_type": "code",
   "execution_count": 21,
   "id": "complimentary-notion",
   "metadata": {},
   "outputs": [],
   "source": [
    "# Разобьем выборку на обучающую и тестовую\n",
    "train_data, test_data, train_labels, test_labels = train_test_split(classification_data, \n",
    "                                                                    classification_labels, \n",
    "                                                                    test_size=0.3,\n",
    "                                                                    random_state=1)"
   ]
  },
  {
   "cell_type": "code",
   "execution_count": 22,
   "id": "minimal-pepper",
   "metadata": {
    "scrolled": true
   },
   "outputs": [
    {
     "data": {
      "text/plain": [
       "array([[-0.74840146, -0.58731219],\n",
       "       [ 1.48300477,  0.72077938],\n",
       "       [-1.68732763, -1.57771442],\n",
       "       [-0.59389287,  0.70998809],\n",
       "       [-1.4416142 , -1.10300421],\n",
       "       [ 0.63131503,  1.47276735],\n",
       "       [-0.98015592, -2.39377005],\n",
       "       [-0.86240844, -1.18172787],\n",
       "       [-0.8126212 , -0.62397904],\n",
       "       [-0.94204293, -0.28128702],\n",
       "       [-2.86659669, -3.09648876],\n",
       "       [ 1.10452433,  0.86225757],\n",
       "       [-0.46586078, -0.63427626],\n",
       "       [-2.46284987, -3.44996638],\n",
       "       [ 0.07560736,  1.73999696],\n",
       "       [-1.21203956, -0.92380383],\n",
       "       [ 0.95961168,  1.51010261],\n",
       "       [-0.89192741, -1.18056016],\n",
       "       [ 0.95344964,  2.49659943],\n",
       "       [-0.26680251,  0.5909157 ],\n",
       "       [-1.42952336, -1.47872396],\n",
       "       [ 0.74007773, -0.29682173],\n",
       "       [-0.20507593,  2.41237003],\n",
       "       [ 2.5098417 ,  0.84437207],\n",
       "       [-0.61327594, -0.60434638],\n",
       "       [ 1.42264114, -0.18118826],\n",
       "       [-1.93081594, -1.21798822],\n",
       "       [ 1.6643484 , -1.27788959],\n",
       "       [ 0.71813602,  3.20973901],\n",
       "       [-0.1537964 ,  0.12356125],\n",
       "       [-1.7959489 , -1.06666766],\n",
       "       [ 1.59812111,  0.43078392],\n",
       "       [ 1.5029889 ,  1.71588702],\n",
       "       [ 1.66373147,  1.29786463],\n",
       "       [-0.00796524, -0.99783202],\n",
       "       [-1.46912465, -1.3218044 ],\n",
       "       [-0.01133155,  1.15704667],\n",
       "       [-1.11989451, -0.68396801],\n",
       "       [ 1.45323514,  1.70354091],\n",
       "       [ 0.31817797,  0.84414167],\n",
       "       [ 0.43137145,  3.09551991],\n",
       "       [-1.06198073, -1.98103736],\n",
       "       [ 2.04026466,  1.89164548],\n",
       "       [-2.35278554, -3.09347073],\n",
       "       [-1.64835007, -2.15832166],\n",
       "       [-1.38539354, -0.46715382],\n",
       "       [-1.31424248, -0.97392612],\n",
       "       [-0.11707492,  0.32892268],\n",
       "       [ 1.60013037,  1.58185308],\n",
       "       [-1.78307198, -1.77312968],\n",
       "       [ 1.63064427,  0.743324  ],\n",
       "       [-1.45819666, -0.04405152],\n",
       "       [-1.19015574, -1.51791686],\n",
       "       [-1.9323267 , -2.48862875],\n",
       "       [ 0.17541738,  1.25616396],\n",
       "       [ 0.69886908,  0.2172825 ],\n",
       "       [ 0.90689969,  1.1204344 ],\n",
       "       [-0.52449779,  0.25347768],\n",
       "       [ 1.15692132, -0.36801083],\n",
       "       [-0.24715154, -0.76873776],\n",
       "       [-0.17968094,  1.59186812],\n",
       "       [ 0.08993063, -0.26699901],\n",
       "       [ 1.21506474,  1.42781561],\n",
       "       [-2.40693479, -1.60837767],\n",
       "       [-1.71320849, -0.34030569],\n",
       "       [ 0.74184092,  1.40202565],\n",
       "       [ 0.38980587,  0.45891419],\n",
       "       [ 1.49216434,  0.38240715],\n",
       "       [ 1.51949135, -0.36315686],\n",
       "       [-0.09889573,  1.08812375]])"
      ]
     },
     "execution_count": 22,
     "metadata": {},
     "output_type": "execute_result"
    }
   ],
   "source": [
    "train_data"
   ]
  },
  {
   "cell_type": "code",
   "execution_count": 23,
   "id": "eleven-cooking",
   "metadata": {},
   "outputs": [
    {
     "data": {
      "text/plain": [
       "array([[ 1.34497424,  1.83469156],\n",
       "       [-1.98187659, -0.98173546],\n",
       "       [ 0.88627303,  1.46893122],\n",
       "       [ 0.49145238,  1.07957062],\n",
       "       [ 0.76391488,  3.09892476],\n",
       "       [-0.77960612, -0.44759042],\n",
       "       [-1.73497856, -2.32585743],\n",
       "       [ 2.13410665,  1.47119527],\n",
       "       [ 1.32004246, -0.53197477],\n",
       "       [-0.92671127, -0.97267058],\n",
       "       [ 0.28304314,  1.20860235],\n",
       "       [ 1.03166169,  2.04036904],\n",
       "       [ 0.54159004,  2.04909024],\n",
       "       [-0.32554805, -0.58431051],\n",
       "       [ 0.82471246,  1.48053952],\n",
       "       [ 0.08452531,  1.88650568],\n",
       "       [ 1.1008187 ,  0.08734892],\n",
       "       [-0.24847596,  0.33926729],\n",
       "       [ 1.77170522,  0.37342026],\n",
       "       [-1.77106207, -0.83242045],\n",
       "       [ 1.47364587, -0.94343852],\n",
       "       [-0.65778233, -1.08861705],\n",
       "       [ 1.1294402 ,  0.75151507],\n",
       "       [-0.33963108,  0.95855915],\n",
       "       [ 0.33854576,  1.30484759],\n",
       "       [-0.54685327, -1.14250686],\n",
       "       [-1.53102686, -0.74940448],\n",
       "       [ 0.03218158,  0.37690982],\n",
       "       [ 0.42912697,  0.15730184],\n",
       "       [-0.67705111, -0.83555906]])"
      ]
     },
     "execution_count": 23,
     "metadata": {},
     "output_type": "execute_result"
    }
   ],
   "source": [
    "test_data"
   ]
  },
  {
   "cell_type": "code",
   "execution_count": 24,
   "id": "behavioral-pakistan",
   "metadata": {},
   "outputs": [
    {
     "data": {
      "text/plain": [
       "array([1, 0, 1, 1, 1, 0, 1, 1, 1, 1, 1, 0, 1, 1, 0, 1, 0, 1, 0, 0, 1, 1,\n",
       "       0, 0, 1, 0, 1, 0, 0, 1, 1, 0, 0, 0, 1, 1, 0, 1, 0, 0, 0, 1, 0, 1,\n",
       "       1, 1, 1, 0, 0, 1, 0, 1, 1, 1, 1, 0, 0, 1, 0, 1, 0, 1, 0, 1, 1, 0,\n",
       "       0, 0, 0, 0])"
      ]
     },
     "execution_count": 24,
     "metadata": {},
     "output_type": "execute_result"
    }
   ],
   "source": [
    "train_labels"
   ]
  },
  {
   "cell_type": "code",
   "execution_count": 25,
   "id": "super-citation",
   "metadata": {},
   "outputs": [
    {
     "data": {
      "text/plain": [
       "array([0, 1, 0, 1, 0, 1, 1, 0, 0, 1, 0, 0, 0, 1, 0, 0, 0, 1, 0, 1, 0, 1,\n",
       "       0, 0, 0, 1, 1, 1, 0, 1])"
      ]
     },
     "execution_count": 25,
     "metadata": {},
     "output_type": "execute_result"
    }
   ],
   "source": [
    "test_labels"
   ]
  },
  {
   "cell_type": "markdown",
   "id": "sound-construction",
   "metadata": {},
   "source": [
    "### 1 дерево"
   ]
  },
  {
   "cell_type": "code",
   "execution_count": 26,
   "id": "earned-electricity",
   "metadata": {},
   "outputs": [
    {
     "name": "stdout",
     "output_type": "stream",
     "text": [
      "Wall time: 8 ms\n"
     ]
    }
   ],
   "source": [
    "%%time\n",
    "n_trees = 1\n",
    "my_forest_1 = random_forest(train_data, train_labels, n_trees)"
   ]
  },
  {
   "cell_type": "code",
   "execution_count": 27,
   "id": "hourly-family",
   "metadata": {},
   "outputs": [],
   "source": [
    "# Получим ответы для обучающей выборки \n",
    "train_answers = tree_vote(my_forest_1, train_data)"
   ]
  },
  {
   "cell_type": "code",
   "execution_count": 28,
   "id": "short-developer",
   "metadata": {},
   "outputs": [],
   "source": [
    "# И получим ответы для тестовой выборки\n",
    "test_answers = tree_vote(my_forest_1, test_data)"
   ]
  },
  {
   "cell_type": "code",
   "execution_count": 29,
   "id": "medieval-barrier",
   "metadata": {
    "scrolled": true
   },
   "outputs": [
    {
     "name": "stdout",
     "output_type": "stream",
     "text": [
      "Nimber of correct answers is  65 of  70\n",
      "Точность случайного леса из 1 деревьев на обучающей выборке: 92.85714\n",
      "Nimber of correct answers is  24 of  30\n",
      "Точность случайного леса из 1 деревьев на тестовой выборке: 80.00000\n"
     ]
    }
   ],
   "source": [
    "# Точность на обучающей выборке\n",
    "train_accuracy = accuracy_metric(train_labels, train_answers)\n",
    "print(f'Точность случайного леса из {n_trees} деревьев на обучающей выборке: {train_accuracy:.5f}')\n",
    "\n",
    "# Точность на тестовой выборке\n",
    "test_accuracy = accuracy_metric(test_labels, test_answers)\n",
    "print(f'Точность случайного леса из {n_trees} деревьев на тестовой выборке: {test_accuracy:.5f}')"
   ]
  },
  {
   "cell_type": "markdown",
   "id": "stupid-colon",
   "metadata": {},
   "source": [
    "Т.к. визуализируем лес, то необходимо поменять название функции возвращающей данные и изменить порядок аргументов относительно функции из урока.  \n",
    "Также добавлена передача посчитанных метрик параметрами, чтобы подписи к графикам отражали текущую величину метрики"
   ]
  },
  {
   "cell_type": "code",
   "execution_count": 30,
   "id": "sunrise-penny",
   "metadata": {},
   "outputs": [],
   "source": [
    "# Визуализируем дерево на графике\n",
    "\n",
    "def get_meshgrid(data, step=.05, border=1.2):\n",
    "    x_min, x_max = data[:, 0].min() - border, data[:, 0].max() + border\n",
    "    y_min, y_max = data[:, 1].min() - border, data[:, 1].max() + border\n",
    "    return np.meshgrid(np.arange(x_min, x_max, step), np.arange(y_min, y_max, step))\n",
    "\n",
    "\n",
    "def visualize(train_accuracy, test_accuracy, train_data, test_data, model):\n",
    "    plt.figure(figsize = (16, 7))\n",
    "\n",
    "    # график обучающей выборки\n",
    "    plt.subplot(1,2,1)\n",
    "    xx, yy = get_meshgrid(train_data)\n",
    "    mesh_predictions = np.array(tree_vote(model, np.c_[xx.ravel(), yy.ravel()])).reshape(xx.shape)\n",
    "    plt.pcolormesh(xx, yy, mesh_predictions, cmap = light_colors)\n",
    "    plt.scatter(train_data[:, 0], train_data[:, 1], c = train_labels, cmap = colors)\n",
    "    plt.title(f'Train accuracy={train_accuracy:.5f}')\n",
    "\n",
    "    # график тестовой выборки\n",
    "    plt.subplot(1,2,2)\n",
    "    plt.pcolormesh(xx, yy, mesh_predictions, cmap = light_colors)\n",
    "    plt.scatter(test_data[:, 0], test_data[:, 1], c = test_labels, cmap = colors)\n",
    "    plt.title(f'Test accuracy={test_accuracy:.5f}')"
   ]
  },
  {
   "cell_type": "code",
   "execution_count": 31,
   "id": "registered-nerve",
   "metadata": {},
   "outputs": [
    {
     "name": "stderr",
     "output_type": "stream",
     "text": [
      "<ipython-input-30-9028dcc99e39>:16: MatplotlibDeprecationWarning: shading='flat' when X and Y have the same dimensions as C is deprecated since 3.3.  Either specify the corners of the quadrilaterals with X and Y, or pass shading='auto', 'nearest' or 'gouraud', or set rcParams['pcolor.shading'].  This will become an error two minor releases later.\n",
      "  plt.pcolormesh(xx, yy, mesh_predictions, cmap = light_colors)\n",
      "<ipython-input-30-9028dcc99e39>:22: MatplotlibDeprecationWarning: shading='flat' when X and Y have the same dimensions as C is deprecated since 3.3.  Either specify the corners of the quadrilaterals with X and Y, or pass shading='auto', 'nearest' or 'gouraud', or set rcParams['pcolor.shading'].  This will become an error two minor releases later.\n",
      "  plt.pcolormesh(xx, yy, mesh_predictions, cmap = light_colors)\n"
     ]
    },
    {
     "data": {
      "image/png": "[encoded data removed]",
      "text/plain": [
       "<Figure size 1152x504 with 2 Axes>"
      ]
     },
     "metadata": {
      "needs_background": "light"
     },
     "output_type": "display_data"
    }
   ],
   "source": [
    "visualize(train_accuracy, test_accuracy, train_data, test_data, my_forest_1)"
   ]
  },
  {
   "cell_type": "markdown",
   "id": "revised-criterion",
   "metadata": {},
   "source": [
    "### 3 дерева"
   ]
  },
  {
   "cell_type": "code",
   "execution_count": 32,
   "id": "finished-internet",
   "metadata": {},
   "outputs": [
    {
     "name": "stdout",
     "output_type": "stream",
     "text": [
      "Wall time: 21 ms\n"
     ]
    }
   ],
   "source": [
    "%%time\n",
    "n_trees = 3\n",
    "my_forest_3 = random_forest(train_data, train_labels, n_trees)"
   ]
  },
  {
   "cell_type": "code",
   "execution_count": 33,
   "id": "transsexual-gender",
   "metadata": {},
   "outputs": [],
   "source": [
    "# Получим ответы для обучающей выборки \n",
    "train_answers_3 = tree_vote(my_forest_3, train_data)"
   ]
  },
  {
   "cell_type": "code",
   "execution_count": 34,
   "id": "southwest-theme",
   "metadata": {},
   "outputs": [],
   "source": [
    "# И получим ответы для тестовой выборки\n",
    "test_answers_3 = tree_vote(my_forest_3, test_data)"
   ]
  },
  {
   "cell_type": "code",
   "execution_count": 35,
   "id": "established-playing",
   "metadata": {},
   "outputs": [
    {
     "name": "stdout",
     "output_type": "stream",
     "text": [
      "Nimber of correct answers is  68 of  70\n",
      "Точность случайного леса из 3 деревьев на обучающей выборке: 97.14286\n",
      "Nimber of correct answers is  26 of  30\n",
      "Точность случайного леса из 3 деревьев на тестовой выборке: 86.66667\n"
     ]
    }
   ],
   "source": [
    "# Точность на обучающей выборке\n",
    "train_accuracy_3 = accuracy_metric(train_labels, train_answers_3)\n",
    "print(f'Точность случайного леса из {n_trees} деревьев на обучающей выборке: {train_accuracy_3:.5f}')\n",
    "\n",
    "# Точность на тестовой выборке\n",
    "test_accuracy_3 = accuracy_metric(test_labels, test_answers_3)\n",
    "print(f'Точность случайного леса из {n_trees} деревьев на тестовой выборке: {test_accuracy_3:.5f}')"
   ]
  },
  {
   "cell_type": "code",
   "execution_count": 36,
   "id": "lucky-bryan",
   "metadata": {},
   "outputs": [
    {
     "name": "stderr",
     "output_type": "stream",
     "text": [
      "<ipython-input-30-9028dcc99e39>:16: MatplotlibDeprecationWarning: shading='flat' when X and Y have the same dimensions as C is deprecated since 3.3.  Either specify the corners of the quadrilaterals with X and Y, or pass shading='auto', 'nearest' or 'gouraud', or set rcParams['pcolor.shading'].  This will become an error two minor releases later.\n",
      "  plt.pcolormesh(xx, yy, mesh_predictions, cmap = light_colors)\n",
      "<ipython-input-30-9028dcc99e39>:22: MatplotlibDeprecationWarning: shading='flat' when X and Y have the same dimensions as C is deprecated since 3.3.  Either specify the corners of the quadrilaterals with X and Y, or pass shading='auto', 'nearest' or 'gouraud', or set rcParams['pcolor.shading'].  This will become an error two minor releases later.\n",
      "  plt.pcolormesh(xx, yy, mesh_predictions, cmap = light_colors)\n"
     ]
    },
    {
     "data": {
      "image/png": "[encoded data removed]",
      "text/plain": [
       "<Figure size 1152x504 with 2 Axes>"
      ]
     },
     "metadata": {
      "needs_background": "light"
     },
     "output_type": "display_data"
    }
   ],
   "source": [
    "visualize(train_accuracy_3, test_accuracy_3, train_data, test_data, my_forest_3)"
   ]
  },
  {
   "cell_type": "markdown",
   "id": "third-howard",
   "metadata": {},
   "source": [
    "### 10 деревьев"
   ]
  },
  {
   "cell_type": "code",
   "execution_count": 37,
   "id": "recognized-vision",
   "metadata": {},
   "outputs": [
    {
     "name": "stdout",
     "output_type": "stream",
     "text": [
      "Wall time: 60 ms\n"
     ]
    }
   ],
   "source": [
    "%%time\n",
    "n_trees = 10\n",
    "my_forest_10 = random_forest(train_data, train_labels, n_trees)"
   ]
  },
  {
   "cell_type": "code",
   "execution_count": 38,
   "id": "smaller-stanford",
   "metadata": {},
   "outputs": [],
   "source": [
    "# Получим ответы для обучающей выборки \n",
    "train_answers_10 = tree_vote(my_forest_10, train_data)"
   ]
  },
  {
   "cell_type": "code",
   "execution_count": 39,
   "id": "dress-reply",
   "metadata": {},
   "outputs": [],
   "source": [
    "# И получим ответы для тестовой выборки\n",
    "test_answers_10 = tree_vote(my_forest_10, test_data)"
   ]
  },
  {
   "cell_type": "code",
   "execution_count": 40,
   "id": "enhanced-cisco",
   "metadata": {},
   "outputs": [
    {
     "name": "stdout",
     "output_type": "stream",
     "text": [
      "Nimber of correct answers is  69 of  70\n",
      "Точность случайного леса из 10 деревьев на обучающей выборке: 98.571\n",
      "Nimber of correct answers is  26 of  30\n",
      "Точность случайного леса из 10 деревьев на тестовой выборке: 86.667\n"
     ]
    }
   ],
   "source": [
    "# Точность на обучающей выборке\n",
    "train_accuracy_10 = accuracy_metric(train_labels, train_answers_10)\n",
    "print(f'Точность случайного леса из {n_trees} деревьев на обучающей выборке: {train_accuracy_10:.3f}')\n",
    "\n",
    "# Точность на тестовой выборке\n",
    "test_accuracy_10 = accuracy_metric(test_labels, test_answers_10)\n",
    "print(f'Точность случайного леса из {n_trees} деревьев на тестовой выборке: {test_accuracy_10:.3f}')"
   ]
  },
  {
   "cell_type": "code",
   "execution_count": 41,
   "id": "painted-collins",
   "metadata": {},
   "outputs": [
    {
     "name": "stderr",
     "output_type": "stream",
     "text": [
      "<ipython-input-30-9028dcc99e39>:16: MatplotlibDeprecationWarning: shading='flat' when X and Y have the same dimensions as C is deprecated since 3.3.  Either specify the corners of the quadrilaterals with X and Y, or pass shading='auto', 'nearest' or 'gouraud', or set rcParams['pcolor.shading'].  This will become an error two minor releases later.\n",
      "  plt.pcolormesh(xx, yy, mesh_predictions, cmap = light_colors)\n",
      "<ipython-input-30-9028dcc99e39>:22: MatplotlibDeprecationWarning: shading='flat' when X and Y have the same dimensions as C is deprecated since 3.3.  Either specify the corners of the quadrilaterals with X and Y, or pass shading='auto', 'nearest' or 'gouraud', or set rcParams['pcolor.shading'].  This will become an error two minor releases later.\n",
      "  plt.pcolormesh(xx, yy, mesh_predictions, cmap = light_colors)\n"
     ]
    },
    {
     "data": {
      "image/png": "[encoded data removed]",
      "text/plain": [
       "<Figure size 1152x504 with 2 Axes>"
      ]
     },
     "metadata": {
      "needs_background": "light"
     },
     "output_type": "display_data"
    }
   ],
   "source": [
    "visualize(train_accuracy_10, test_accuracy_10, train_data, test_data, my_forest_10)"
   ]
  },
  {
   "cell_type": "markdown",
   "id": "confidential-patient",
   "metadata": {},
   "source": [
    "### 50 деревьев"
   ]
  },
  {
   "cell_type": "code",
   "execution_count": 42,
   "id": "european-approval",
   "metadata": {},
   "outputs": [
    {
     "name": "stdout",
     "output_type": "stream",
     "text": [
      "Wall time: 250 ms\n"
     ]
    }
   ],
   "source": [
    "%%time\n",
    "n_trees = 50\n",
    "my_forest_50 = random_forest(train_data, train_labels, n_trees)"
   ]
  },
  {
   "cell_type": "code",
   "execution_count": 43,
   "id": "specialized-neighbor",
   "metadata": {},
   "outputs": [],
   "source": [
    "# Получим ответы для обучающей выборки \n",
    "train_answers_50 = tree_vote(my_forest_50, train_data)"
   ]
  },
  {
   "cell_type": "code",
   "execution_count": 44,
   "id": "martial-florist",
   "metadata": {},
   "outputs": [],
   "source": [
    "# И получим ответы для тестовой выборки\n",
    "test_answers_50 = tree_vote(my_forest_50, test_data)"
   ]
  },
  {
   "cell_type": "code",
   "execution_count": 45,
   "id": "tutorial-lincoln",
   "metadata": {},
   "outputs": [
    {
     "name": "stdout",
     "output_type": "stream",
     "text": [
      "Nimber of correct answers is  70 of  70\n",
      "Точность случайного леса из 50 деревьев на обучающей выборке: 100.000\n",
      "Nimber of correct answers is  27 of  30\n",
      "Точность случайного леса из 50 деревьев на тестовой выборке: 90.000\n"
     ]
    }
   ],
   "source": [
    "# Точность на обучающей выборке\n",
    "train_accuracy_50 = accuracy_metric(train_labels, train_answers_50)\n",
    "print(f'Точность случайного леса из {n_trees} деревьев на обучающей выборке: {train_accuracy_50:.3f}')\n",
    "\n",
    "# Точность на тестовой выборке\n",
    "test_accuracy_50 = accuracy_metric(test_labels, test_answers_50)\n",
    "print(f'Точность случайного леса из {n_trees} деревьев на тестовой выборке: {test_accuracy_50:.3f}')"
   ]
  },
  {
   "cell_type": "code",
   "execution_count": 46,
   "id": "exciting-profile",
   "metadata": {},
   "outputs": [
    {
     "name": "stderr",
     "output_type": "stream",
     "text": [
      "<ipython-input-30-9028dcc99e39>:16: MatplotlibDeprecationWarning: shading='flat' when X and Y have the same dimensions as C is deprecated since 3.3.  Either specify the corners of the quadrilaterals with X and Y, or pass shading='auto', 'nearest' or 'gouraud', or set rcParams['pcolor.shading'].  This will become an error two minor releases later.\n",
      "  plt.pcolormesh(xx, yy, mesh_predictions, cmap = light_colors)\n",
      "<ipython-input-30-9028dcc99e39>:22: MatplotlibDeprecationWarning: shading='flat' when X and Y have the same dimensions as C is deprecated since 3.3.  Either specify the corners of the quadrilaterals with X and Y, or pass shading='auto', 'nearest' or 'gouraud', or set rcParams['pcolor.shading'].  This will become an error two minor releases later.\n",
      "  plt.pcolormesh(xx, yy, mesh_predictions, cmap = light_colors)\n"
     ]
    },
    {
     "data": {
      "image/png": "[encoded data removed]",
      "text/plain": [
       "<Figure size 1152x504 with 2 Axes>"
      ]
     },
     "metadata": {
      "needs_background": "light"
     },
     "output_type": "display_data"
    }
   ],
   "source": [
    "visualize(train_accuracy_50, test_accuracy_50, train_data, test_data, my_forest_50)"
   ]
  },
  {
   "cell_type": "markdown",
   "id": "impressed-anxiety",
   "metadata": {},
   "source": [
    "**2. Сделать выводы о получаемой сложности гиперплоскости и недообучении или переобучении случайного леса в зависимости от количества деревьев в нем.**\n",
    "\n"
   ]
  },
  {
   "cell_type": "markdown",
   "id": "prepared-yemen",
   "metadata": {},
   "source": [
    "Выводы:\n",
    "- Увеличение количества деревьев всегда приводит к увеличению точности на тренировочной выборке. Но, похоже, количество деревьев большее, чем количество наблюдений не приведет к какому-либо эффекту.\n",
    "- Но увеличение количества деревьев далеко не всегда приводит к увеличению точности предсказаний на тествовй выборке.\n",
    "- На графиках можно увидеть, что с увеличением количества деревььев гиперплоскость усложняется и более полно охватывает все объекты на тренировочной выборке. При этом далеко не всегда оптимизированная для тренировки гиперплоскость соответсвует по форме оптимальной гиперплоскости для теста\n",
    "- Можно предположить, что этотт эффект нивелируется с увеличением количества объектов, но базовые положения останутся актуальными.  \n",
    "\n",
    "Т.е. лес с количеством деревьев выше определенного оптимального порога склонен к переобучению.  \n",
    "Все вышеуказанное справедливо для Random Forest без ограничения глубины деревьев. "
   ]
  },
  {
   "cell_type": "markdown",
   "id": "ecological-moore",
   "metadata": {},
   "source": [
    "  \n",
    "    \n",
    "      \n",
    "        \n",
    "          "
   ]
  },
  {
   "cell_type": "markdown",
   "id": "acceptable-heaven",
   "metadata": {},
   "source": [
    "**3. *Заменить в реализованном алгоритме проверку с помощью отложенной выборки на Out-of-Bag.**\n",
    "\n"
   ]
  },
  {
   "cell_type": "markdown",
   "id": "exciting-seeker",
   "metadata": {},
   "source": [
    "Переменные"
   ]
  },
  {
   "cell_type": "code",
   "execution_count": 88,
   "id": "stupid-palmer",
   "metadata": {},
   "outputs": [],
   "source": [
    "tree_max_depth = 3\n",
    "min_samples_split_gl = 2\n",
    "min_samples_leaf_gl = 1"
   ]
  },
  {
   "cell_type": "markdown",
   "id": "surgical-database",
   "metadata": {},
   "source": [
    "Для функции нахождения наилучшего разбиения особенных изменений нет за исключением добавленных условий."
   ]
  },
  {
   "cell_type": "code",
   "execution_count": 80,
   "id": "detected-electric",
   "metadata": {},
   "outputs": [],
   "source": [
    "# Нахождение наилучшего разбиения\n",
    "\n",
    "def find_best_split(data, labels, min_leaf_samples=5):\n",
    "    \n",
    "    #  обозначим минимальное количество объектов в узле\n",
    "    #min_leaf_samples = 5\n",
    "\n",
    "    root_gini = gini(labels)\n",
    "\n",
    "    best_gain = 0\n",
    "    best_t = None\n",
    "    best_index = None\n",
    "    \n",
    "    n_features = data.shape[1]\n",
    "    \n",
    "    feature_subsample_indices = get_subsample(n_features) # выбираем случайные признаки\n",
    "    \n",
    "    for index in feature_subsample_indices:\n",
    "        # будем проверять только уникальные значения признака, исключая повторения\n",
    "        t_values = np.unique(data[:, index])\n",
    "        \n",
    "        for t in t_values:\n",
    "            true_data, false_data, true_labels, false_labels = split(data, labels, index, t)\n",
    "            #  пропускаем разбиения, в которых в узле остается менее 5 объектов\n",
    "            if len(true_data) < min_leaf_samples or len(false_data) < min_leaf_samples:\n",
    "                continue\n",
    "            \n",
    "            current_gain = gain(true_labels, false_labels, root_gini)\n",
    "            \n",
    "            #  выбираем порог, на котором получается максимальный прирост качества\n",
    "            if current_gain > best_gain:\n",
    "                best_gain, best_t, best_index = current_gain, t, index\n",
    "\n",
    "    return best_gain, best_t, best_index"
   ]
  },
  {
   "cell_type": "markdown",
   "id": "dimensional-liabilities",
   "metadata": {},
   "source": [
    "Просто изменено название класса или функции."
   ]
  },
  {
   "cell_type": "code",
   "execution_count": 150,
   "id": "processed-serve",
   "metadata": {},
   "outputs": [],
   "source": [
    "class Leaf_oob:\n",
    "    \n",
    "    def __init__(self, data, labels):\n",
    "        self.data = data\n",
    "        self.labels = labels\n",
    "        self.prediction = self.predict()\n",
    "        \n",
    "    def predict(self):\n",
    "        # подсчет количества объектов разных классов\n",
    "        classes = {}  # сформируем словарь \"класс: количество объектов\"\n",
    "        for label in self.labels:\n",
    "            if label not in classes:\n",
    "                classes[label] = 0\n",
    "            classes[label] += 1\n",
    "            \n",
    "        # найдем класс, количество объектов которого будет максимальным в этом листе и вернем его    \n",
    "        prediction = max(classes, key=classes.get)\n",
    "        return prediction"
   ]
  },
  {
   "cell_type": "code",
   "execution_count": null,
   "id": "increased-passenger",
   "metadata": {},
   "outputs": [],
   "source": [
    "# Функция классификации отдельного объекта\n",
    "\n",
    "def classify_object_oob(obj, node):\n",
    "\n",
    "    #  Останавливаем рекурсию, если достигли листа\n",
    "    if isinstance(node, Leaf_oob):\n",
    "        answer = node.prediction\n",
    "        return answer\n",
    "    \n",
    "    #print(node.t)\n",
    "    #print(obj)\n",
    "    \n",
    "    \n",
    "    if obj[node.index] <= node.t:\n",
    "        return classify_object_oob(obj, node.true_branch)\n",
    "    else:\n",
    "        return classify_object_oob(obj, node.false_branch)"
   ]
  },
  {
   "cell_type": "markdown",
   "id": "incoming-sapphire",
   "metadata": {},
   "source": [
    "Функция, предназначенная для подсчета OOB"
   ]
  },
  {
   "cell_type": "markdown",
   "id": "finished-shanghai",
   "metadata": {},
   "source": [
    "Подсчет величины OOB \n",
    "В отличии от исходной функции, возвращается отношение."
   ]
  },
  {
   "cell_type": "code",
   "execution_count": 111,
   "id": "focal-movement",
   "metadata": {},
   "outputs": [],
   "source": [
    "def oob_score(tree, X_test, y_test):\n",
    "    mis_label = 0\n",
    "    for i in range(len(X_test)):\n",
    "        pred = predict_oob(X_test[i], tree)\n",
    "        #print(\"pred=\", pred)\n",
    "        if pred != y_test[i]:\n",
    "            mis_label += 1\n",
    "    #print(mis_label / len(X_test))\n",
    "    return mis_label / len(X_test)       "
   ]
  },
  {
   "cell_type": "code",
   "execution_count": 143,
   "id": "multiple-match",
   "metadata": {},
   "outputs": [],
   "source": [
    "def predict_oob(data, tree):    \n",
    "    classes = []\n",
    "    #print(data)\n",
    "    for obj in data:\n",
    "        prediction = classify_object_oob(obj, tree)\n",
    "        print(prediction)\n",
    "    return classes"
   ]
  },
  {
   "cell_type": "markdown",
   "id": "fiscal-north",
   "metadata": {},
   "source": [
    "Доработка исходной функции для возврата массива с неиспользованными объектами"
   ]
  },
  {
   "cell_type": "code",
   "execution_count": 54,
   "id": "invalid-discharge",
   "metadata": {},
   "outputs": [],
   "source": [
    "def get_bootstrap_oob(data, labels):#, n_trees):\n",
    "    bootstrap = [] #list with data which shoul be returned\n",
    "    oob_list = [] # list with data which are not in samples\n",
    "    \n",
    "    \n",
    "    # Выбор индексов для бутстрапа и остаток выбирается как индексы для OOB    \n",
    "    n_samples = int(data.shape[0]) # размер совпадает с исходной выборкой    \n",
    "    \n",
    "    #for i in range(n_trees):    \n",
    "    sample_index = np.random.randint(0, n_samples, size=n_samples)\n",
    "    oob_indices = [i for i in range(len(data)) if i not in sample_index]\n",
    "    #sample_index = np.random.randint(0, n_samples, size=n_samples)\n",
    "    \n",
    "    #indices with data\n",
    "    b_x = data[sample_index]\n",
    "    b_y = labels[sample_index]\n",
    "    # indices for OOB\n",
    "    X_oob = data[oob_indices]\n",
    "    y_oob = labels[oob_indices]\n",
    "    #bootstrap.append((b_x, b_y, X_oob, y_oob))\n",
    "        \n",
    "    return b_x, b_y, X_oob, y_oob #bootstrap "
   ]
  },
  {
   "cell_type": "markdown",
   "id": "listed-millennium",
   "metadata": {},
   "source": [
    "Измененная функция по нахождению наилучшего разбиения"
   ]
  },
  {
   "cell_type": "code",
   "execution_count": 81,
   "id": "searching-fossil",
   "metadata": {},
   "outputs": [],
   "source": [
    "def build_tree(data, labels, depth = 0 , min_samples_leaf=1, min_samples_split=2):\n",
    "    \n",
    "    global tree_max_depth , min_samples_leaf_gl, min_samples_split_gl\n",
    "    \n",
    "    if (depth < tree_max_depth) and (data.shape[0] > min_samples_split):\n",
    "        #print(depth, tree_max_depth)\n",
    "        gain, t, index = find_best_split(data, labels, min_samples_leaf_gl)\n",
    "        #  Базовый случай - прекращаем рекурсию, когда нет прироста в качества\n",
    "        if gain == 0:\n",
    "            return Leaf(data, labels)\n",
    "\n",
    "        true_data, false_data, true_labels, false_labels = split(data, labels, index, t)\n",
    "\n",
    "        # Рекурсивно строим два поддерева\n",
    "        true_branch = build_tree(true_data, true_labels, depth + 1, min_samples_leaf_gl)\n",
    "        false_branch = build_tree(false_data, false_labels, depth + 1, min_samples_leaf_gl)\n",
    "\n",
    "        # Возвращаем класс узла со всеми поддеревьями, то есть целого дерева\n",
    "        return Node(index, t, true_branch, false_branch)\n",
    "    \n",
    "    # returning leaf when reaches max depth\n",
    "    #print(\"Leaf\")\n",
    "    return Leaf(data, labels)"
   ]
  },
  {
   "cell_type": "markdown",
   "id": "pleased-indianapolis",
   "metadata": {},
   "source": [
    "После изменений bootsrap создается для каждого из деревьев отдельно.  \n",
    "Из него извлекаются параметры, которые затем обрабатывются"
   ]
  },
  {
   "cell_type": "code",
   "execution_count": 113,
   "id": "modern-soundtrack",
   "metadata": {},
   "outputs": [],
   "source": [
    "def random_forest_oob(X, y, n_trees):\n",
    "    forest = [] #main data \n",
    "    oob_list = [] # bootstrap data\n",
    "    \n",
    "    for j in range(n_trees):\n",
    "        b_data,  b_labels, test_data, test_labesl = get_bootstrap_oob(X, y)        \n",
    "        \n",
    "        #print(b_data.shape[0],  b_labels.shape[0], test_data.shape[0], test_labesl.shape[0])        \n",
    "        \n",
    "        tree = (build_tree(b_data, b_labels))\n",
    "        #print(tree)\n",
    "        forest.append(tree)\n",
    "        oob_error = 1 - oob_score(tree, test_data, test_labesl)\n",
    "        oob_list.append([j, oob_error])\n",
    "    return forest, oob_list"
   ]
  },
  {
   "cell_type": "code",
   "execution_count": 132,
   "id": "musical-cookbook",
   "metadata": {},
   "outputs": [],
   "source": [
    "# предсказание голосованием деревьев\n",
    "\n",
    "def tree_vote_oob(forest, data):\n",
    "\n",
    "    # добавим предсказания всех деревьев в список\n",
    "    predictions = []\n",
    "    for tree in forest:\n",
    "        print(predict_oob(data, tree))\n",
    "        predictions.append(predict_oob(data, tree))\n",
    "        \n",
    "    #print(predictions)\n",
    "\n",
    "    # сформируем список с предсказаниями для каждого объекта\n",
    "    predictions_per_object = list(zip(*predictions))\n",
    "#     print(predictions_per_object)\n",
    "\n",
    "    # выберем в качестве итогового предсказания для каждого объекта то,\n",
    "    # за которое проголосовало большинство деревьев\n",
    "    voted_predictions = []\n",
    "    for obj in predictions_per_object:\n",
    "        voted_predictions.append(max(set(obj), key=obj.count))\n",
    "    print(voted_predictions)    \n",
    "    return voted_predictions"
   ]
  },
  {
   "cell_type": "markdown",
   "id": "dressed-circuit",
   "metadata": {},
   "source": [
    "Создание датасета"
   ]
  },
  {
   "cell_type": "code",
   "execution_count": 118,
   "id": "offshore-latex",
   "metadata": {},
   "outputs": [],
   "source": [
    "X, y = make_classification(n_features=2, \n",
    "                           n_informative=2, \n",
    "                           n_classes=2, \n",
    "                           n_redundant=0,\n",
    "                           n_clusters_per_class=1, \n",
    "                           random_state=250, \n",
    "                           n_samples=100)"
   ]
  },
  {
   "cell_type": "markdown",
   "id": "continuous-lesson",
   "metadata": {},
   "source": [
    "Получение случайного леса"
   ]
  },
  {
   "cell_type": "code",
   "execution_count": 58,
   "id": "detailed-seller",
   "metadata": {},
   "outputs": [],
   "source": []
  },
  {
   "cell_type": "code",
   "execution_count": 99,
   "id": "graduate-addiction",
   "metadata": {},
   "outputs": [],
   "source": []
  },
  {
   "cell_type": "code",
   "execution_count": 100,
   "id": "broke-legend",
   "metadata": {},
   "outputs": [],
   "source": [
    "# Визуализируем дерево на графике\n",
    "\n",
    "def get_meshgrid(data, step=.05, border=1.2):\n",
    "    x_min, x_max = data[:, 0].min() - border, data[:, 0].max() + border\n",
    "    y_min, y_max = data[:, 1].min() - border, data[:, 1].max() + border\n",
    "    return np.meshgrid(np.arange(x_min, x_max, step), np.arange(y_min, y_max, step))\n",
    "\n",
    "\n",
    "def visualize_oob(train_accuracy, train_data, model):\n",
    "    plt.figure(figsize = (16, 7))\n",
    "\n",
    "    # график обучающей выборки\n",
    "    plt.subplot(1,2,1)\n",
    "    xx, yy = get_meshgrid(train_data)\n",
    "    mesh_predictions = np.array(tree_vote(model, np.c_[xx.ravel(), yy.ravel()])).reshape(xx.shape)\n",
    "    plt.pcolormesh(xx, yy, mesh_predictions, cmap = light_colors)\n",
    "    plt.scatter(train_data[:, 0], train_data[:, 1], c = train_labels, cmap = colors)\n",
    "    plt.title(f'Train accuracy={train_accuracy:.5f}')\n",
    "\n",
    "#     # график тестовой выборки\n",
    "#     plt.subplot(1,2,2)\n",
    "#     plt.pcolormesh(xx, yy, mesh_predictions, cmap = light_colors)\n",
    "#     plt.scatter(test_data[:, 0], test_data[:, 1], c = test_labels, cmap = colors)\n",
    "#     plt.title(f'Test accuracy={test_accuracy:.5f}')"
   ]
  },
  {
   "cell_type": "code",
   "execution_count": null,
   "id": "dependent-location",
   "metadata": {},
   "outputs": [],
   "source": []
  },
  {
   "cell_type": "code",
   "execution_count": null,
   "id": "bigger-swiss",
   "metadata": {},
   "outputs": [],
   "source": []
  },
  {
   "cell_type": "code",
   "execution_count": null,
   "id": "finite-tribune",
   "metadata": {},
   "outputs": [],
   "source": []
  },
  {
   "cell_type": "code",
   "execution_count": null,
   "id": "major-translator",
   "metadata": {},
   "outputs": [],
   "source": []
  },
  {
   "cell_type": "markdown",
   "id": "beginning-history",
   "metadata": {},
   "source": [
    "**4. *(На повторение) Переписать функцию gini из урока про решающие деревья так, чтобы в качестве критерия использовалась энтропия Шэннона. Переименовать функцию в entropy.**"
   ]
  },
  {
   "cell_type": "markdown",
   "id": "designed-postage",
   "metadata": {},
   "source": [
    "Исходная функция:"
   ]
  },
  {
   "cell_type": "code",
   "execution_count": 47,
   "id": "premier-reserve",
   "metadata": {},
   "outputs": [],
   "source": [
    "# Расчет критерия Джини\n",
    "\n",
    "def gini(labels):\n",
    "    #  подсчет количества объектов разных классов\n",
    "    classes = {}\n",
    "    for label in labels:\n",
    "        if label not in classes:\n",
    "            classes[label] = 0\n",
    "        classes[label] += 1\n",
    "    \n",
    "    #  расчет критерия\n",
    "    impurity = 1\n",
    "    for label in classes:\n",
    "        p = classes[label] / len(labels)\n",
    "        impurity -= p ** 2\n",
    "        \n",
    "    return impurity"
   ]
  },
  {
   "cell_type": "markdown",
   "id": "cheap-suggestion",
   "metadata": {},
   "source": [
    "Формула энтропии с математической точки зрения:\n",
    "$$E(S) = \\sum^{c}_{i=1} -p_{i}log_{2}p_{i}$$  \n",
    "где p - это частотная вероятность класса 1 в выборке для оценки."
   ]
  },
  {
   "cell_type": "markdown",
   "id": "competent-birmingham",
   "metadata": {},
   "source": [
    "Вне зависимости от класса, по которому ведется вычисление в данном случае, величина энтропии будет одинаковой, поэтому в теле функции жестко прописываем интересующий нас класс 1.  \n",
    "В случае необходимоти более сложных преобразований, интересующий нас класс можно переавать параметром, но, судя по всему, это не окажет влияния на результат вычислений."
   ]
  },
  {
   "cell_type": "code",
   "execution_count": 48,
   "id": "natural-mission",
   "metadata": {},
   "outputs": [],
   "source": [
    "def entropy_2(labels):\n",
    "        #  подсчет количества объектов разных классов\n",
    "    classes = {}\n",
    "    total = 0\n",
    "    \n",
    "    for label in labels:\n",
    "        if label not in classes:\n",
    "            classes[label] = 0\n",
    "        classes[label] += 1\n",
    "        total +=1\n",
    "    #  расчет критерия\n",
    "    print(classes)  \n",
    "    \n",
    "    #for labels in classes:\n",
    "    p = classes[1]/total\n",
    "    entropy_val =  - p * np.log(p)/np.log(2) - (1-p) * np.log(1-p)/np.log(2)     \n",
    "    #print(entropy_val)\n",
    "        \n",
    "    return entropy_val"
   ]
  },
  {
   "cell_type": "markdown",
   "id": "local-acoustic",
   "metadata": {},
   "source": [
    "Проверка работы функции на небольшом тестовом датасете."
   ]
  },
  {
   "cell_type": "code",
   "execution_count": 49,
   "id": "unlikely-infection",
   "metadata": {},
   "outputs": [],
   "source": [
    "labels = np.array([0, 1, 0, 0, 1, 1, 0, 0, 0, 0])"
   ]
  },
  {
   "cell_type": "code",
   "execution_count": 50,
   "id": "younger-exclusion",
   "metadata": {
    "scrolled": true
   },
   "outputs": [
    {
     "name": "stdout",
     "output_type": "stream",
     "text": [
      "{0: 7, 1: 3}\n"
     ]
    },
    {
     "data": {
      "text/plain": [
       "0.8812908992306927"
      ]
     },
     "execution_count": 50,
     "metadata": {},
     "output_type": "execute_result"
    }
   ],
   "source": [
    "entropy_2(labels)"
   ]
  },
  {
   "cell_type": "markdown",
   "id": "musical-transition",
   "metadata": {},
   "source": [
    "Дальнейшая обработка результатов в целом такая же, как и для критерия Джини.\n",
    "\n",
    "$$ E(childs) = \\sum^{c}_{i=0} p_{i} * E_{i}$$  \n",
    "\n",
    "где с количество дочерних узлов, а p частотная вероятной наблюдений для этих узлов.  \n",
    "\n",
    "$$IG = E(parent) - E(childs)$$  "
   ]
  },
  {
   "cell_type": "code",
   "execution_count": null,
   "id": "ruled-linux",
   "metadata": {},
   "outputs": [],
   "source": []
  }
 ],
 "metadata": {
  "kernelspec": {
   "display_name": "Python 3",
   "language": "python",
   "name": "python3"
  },
  "language_info": {
   "codemirror_mode": {
    "name": "ipython",
    "version": 3
   },
   "file_extension": ".py",
   "mimetype": "text/x-python",
   "name": "python",
   "nbconvert_exporter": "python",
   "pygments_lexer": "ipython3",
   "version": "3.9.1"
  }
 },
 "nbformat": 4,
 "nbformat_minor": 5
}
