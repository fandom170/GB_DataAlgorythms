{
 "cells": [
  {
   "cell_type": "code",
   "execution_count": 2,
   "id": "cubic-style",
   "metadata": {},
   "outputs": [],
   "source": [
    "import numpy as np\n",
    "import pandas as pd\n",
    "import matplotlib.pyplot as plt"
   ]
  },
  {
   "cell_type": "code",
   "execution_count": 3,
   "id": "operating-estonia",
   "metadata": {},
   "outputs": [],
   "source": [
    "from sklearn.model_selection import train_test_split\n",
    "from sklearn.datasets import load_iris\n",
    "from matplotlib.colors import ListedColormap"
   ]
  },
  {
   "cell_type": "markdown",
   "id": "motivated-length",
   "metadata": {},
   "source": [
    "Создадим датасет для последующего использования"
   ]
  },
  {
   "cell_type": "code",
   "execution_count": 4,
   "id": "surgical-window",
   "metadata": {},
   "outputs": [],
   "source": [
    "X, y = load_iris(return_X_y=True)"
   ]
  },
  {
   "cell_type": "code",
   "execution_count": 5,
   "id": "sized-recall",
   "metadata": {},
   "outputs": [],
   "source": [
    "X_train, X_test, y_train, y_test = train_test_split(X, y,\n",
    "                                                    test_size=0.2,\n",
    "                                                    random_state=1,\n",
    "                                                    stratify=y)"
   ]
  },
  {
   "cell_type": "markdown",
   "id": "suffering-symposium",
   "metadata": {},
   "source": [
    "Функции, которые не будут меняться."
   ]
  },
  {
   "cell_type": "code",
   "execution_count": 6,
   "id": "weighted-precipitation",
   "metadata": {},
   "outputs": [],
   "source": [
    "def knn(x_train, y_train, x_test, k):\n",
    "    \n",
    "    answers = []\n",
    "    for x in x_test:\n",
    "        test_distances = []\n",
    "            \n",
    "        for i in range(len(x_train)):\n",
    "            \n",
    "            # расчет расстояния от классифицируемого объекта до\n",
    "            # объекта обучающей выборки\n",
    "            distance = e_metrics(x, x_train[i])\n",
    "            \n",
    "            # Записываем в список значение расстояния и ответа на объекте обучающей выборки\n",
    "            test_distances.append((distance, y_train[i]))\n",
    "        \n",
    "        # создаем словарь со всеми возможными классами\n",
    "        classes = {class_item: 0 for class_item in set(y_train)}\n",
    "        \n",
    "        # Сортируем список и среди первых k элементов подсчитаем частоту появления разных классов\n",
    "        for d in sorted(test_distances)[0:k]:\n",
    "            classes[d[1]] += 1\n",
    "\n",
    "        # Записываем в список ответов наиболее часто встречающийся класс\n",
    "        answers.append(sorted(classes, key=classes.get)[-1])\n",
    "        \n",
    "    return answers"
   ]
  },
  {
   "cell_type": "code",
   "execution_count": 7,
   "id": "stable-thesaurus",
   "metadata": {},
   "outputs": [],
   "source": [
    "def e_metrics(x1, x2):\n",
    "    \n",
    "    distance = np.sum(np.square(x1 - x2))\n",
    "\n",
    "    return np.sqrt(distance)"
   ]
  },
  {
   "cell_type": "code",
   "execution_count": 8,
   "id": "threaded-intro",
   "metadata": {},
   "outputs": [],
   "source": [
    "def accuracy(pred, y):\n",
    "    return (sum(pred == y) / len(y))"
   ]
  },
  {
   "cell_type": "markdown",
   "id": "guided-badge",
   "metadata": {},
   "source": [
    "**1. К алгоритму kNN, реализованному на уроке, реализовать добавление весов для соседей по любому из показанных на уроке принципов.**"
   ]
  },
  {
   "cell_type": "markdown",
   "id": "sweet-shield",
   "metadata": {},
   "source": [
    "В измененной функции написано два варианта определения весов в зависимости от номера (закомментировано) и в зависимости от дистанции.  \n",
    "Изменения прокомментированы непосредственно в теле функции."
   ]
  },
  {
   "cell_type": "code",
   "execution_count": 9,
   "id": "round-senior",
   "metadata": {},
   "outputs": [],
   "source": [
    "def knn_task_1(x_train, y_train, x_test, k):\n",
    "    answers = []\n",
    "    \n",
    "    #---------------------------------------------------------\n",
    "    # Вариант 1\n",
    "    # применим лямбда функцию к списку для преобразования весов соседей в зависимости от номера соседа.\n",
    "    q = 0.5\n",
    "    #init = [_ for _ in range(k)]\n",
    "    #weights = np.array(list(map(lambda x: (q ** x), init)))\n",
    "    #---------------------------------------------------------    \n",
    "    \n",
    "    for x in x_test:\n",
    "        test_distances = []\n",
    "            \n",
    "        for i in range(len(x_train)):\n",
    "            \n",
    "            # расчет расстояния от классифицируемого объекта до\n",
    "            # объекта обучающей выборки\n",
    "            distance = e_metrics(x, x_train[i])\n",
    "            \n",
    "            # Записываем в список значение расстояния и ответа на объекте обучающей выборки\n",
    "            test_distances.append((distance, y_train[i]))\n",
    "        \n",
    "        #----------------------------------------------------------------------------------------\n",
    "        # Отсортируем отдельно список и возьмем из него сразу k ближайших соседей.        \n",
    "        sorted_distances = sorted(test_distances)[0:k]\n",
    "        #------------------------------------------------------------------------------------------        \n",
    "        # создаем словарь со всеми возможными классами\n",
    "        classes = {class_item: 0 for class_item in set(y_train)}\n",
    "        \n",
    "        #------------------------------------------------------------------------------------------------\n",
    "        # Сортируем список и среди первых k элементов подсчитаем частоту появления разных классов\n",
    "        # применяем корректировку при помощи веса к расстояниям.\n",
    "        # Т.к. q задана ментше нуля, увеличение расстояния приводит к уменьшению веса.\n",
    "        for d in sorted_distances:\n",
    "            classes[d[1]] += 1*(q ** d[0])\n",
    "        \n",
    "        \n",
    "        #for j in range(len(sorted_distances)):        \n",
    "        # определение весов в зависимости от номера.  Веса посчитаны в начале функции.\n",
    "        # И применение посчитанных весов к величине голоса.            \n",
    "            #classes[sorted_distances[j][1]] += 1 * weights[j]                        \n",
    "        #-------------------------------------------------------------------------------------------------\n",
    "        \n",
    "        # Записываем в список ответов наиболее часто встречающийся класс\n",
    "        answers.append(sorted(classes, key=classes.get)[-1])\n",
    "        \n",
    "    return answers"
   ]
  },
  {
   "cell_type": "markdown",
   "id": "guilty-meaning",
   "metadata": {},
   "source": [
    "Проверка работы доработанной функции"
   ]
  },
  {
   "cell_type": "code",
   "execution_count": 10,
   "id": "generic-dinner",
   "metadata": {},
   "outputs": [
    {
     "name": "stdout",
     "output_type": "stream",
     "text": [
      "Точность алгоритма при k = 25: 0.933\n"
     ]
    }
   ],
   "source": [
    "k = 25\n",
    "\n",
    "y_pred = knn_task_1(X_train, y_train, X_test, k)\n",
    "\n",
    "print(f'Точность алгоритма при k = {k}: {accuracy(y_pred, y_test):.3f}')"
   ]
  },
  {
   "cell_type": "markdown",
   "id": "cloudy-vertical",
   "metadata": {},
   "source": [
    "В данном конкретном датасете точность достаточно слабо зависит от k.  \n",
    "0,967 при 8  \n",
    "0,933 при 25"
   ]
  },
  {
   "cell_type": "markdown",
   "id": "developmental-volume",
   "metadata": {},
   "source": [
    "**2. Написать функцию подсчета метрики качества кластеризации как среднее квадратичное внутрикластерное расстояние и построить график ее зависимости от количества кластеров k (взять от 1 до 10) для выборки данных из данного урока (создать датасет, как в методичке).**"
   ]
  },
  {
   "cell_type": "markdown",
   "id": "union-center",
   "metadata": {},
   "source": [
    "Используем функции из методички"
   ]
  },
  {
   "cell_type": "code",
   "execution_count": 11,
   "id": "smaller-netscape",
   "metadata": {},
   "outputs": [],
   "source": [
    "def kmeans_task_2(data, k, max_iterations, min_distance):\n",
    "    # Создадим словарь для кластеризации\n",
    "    clusters = {i: [] for i in range(k)}\n",
    "    \n",
    "    # инициализируем центроиды как первые k элементов датасета\n",
    "    centroids = [data[i] for i in range(k)]\n",
    "    \n",
    "    for _ in range(max_iterations):\n",
    "        # кластеризуем объекты по центроидам\n",
    "        for x in data:\n",
    "            # определим расстояния от объекта до каждого центроида\n",
    "            distances = [e_metrics(x, centroid) for centroid in centroids]\n",
    "            # отнесем объект к кластеру, до центроида которого наименьшее расстояние\n",
    "            cluster = distances.index(min(distances))\n",
    "            clusters[cluster].append(x)\n",
    "        \n",
    "        # сохраним предыдущие центроиды в отдельный список для последующего сравнения сновыми\n",
    "        old_centroids = centroids.copy()\n",
    "        \n",
    "        # пересчитаем центроиды как среднее по кластерам\n",
    "        for cluster in clusters:\n",
    "            centroids[cluster] = np.mean(clusters[cluster], axis=0)\n",
    "            \n",
    "        # сравним величину смещения центроидов с минимальной\n",
    "        optimal = True\n",
    "        for centroid in range(len(centroids)):\n",
    "            if np.linalg.norm(centroids[centroid] - old_centroids[centroid], ord=2) > min_distance:\n",
    "                optimal = False\n",
    "                break\n",
    "        \n",
    "        # если все смещения меньше минимального, останавливаем алгоритм  \n",
    "        if optimal:\n",
    "            break\n",
    "    \n",
    "    return old_centroids, clusters"
   ]
  },
  {
   "cell_type": "code",
   "execution_count": 67,
   "id": "cordless-speech",
   "metadata": {},
   "outputs": [],
   "source": [
    "def visualize(centroids, clusters):\n",
    "    colors = ['r', 'g', 'b', 'orange', 'y']\n",
    "    \n",
    "    plt.figure(figsize=(7,7))\n",
    "    \n",
    "    # нанесем на график центроиды\n",
    "    for centroid in centroids:\n",
    "        plt.scatter(centroid[0], centroid[1], marker='x', s=130, c='black')\n",
    "        \n",
    "    # нанесем объекты раскрашенные по классам\n",
    "    for cluster_item in clusters:\n",
    "        for x in clusters[cluster_item]:\n",
    "            plt.scatter(x[0], x[1], color=colors[cluster_item])\n",
    "            \n",
    "    plt.show()"
   ]
  },
  {
   "cell_type": "code",
   "execution_count": 12,
   "id": "sonic-eligibility",
   "metadata": {},
   "outputs": [],
   "source": [
    "def cluster_metric(centoids, clusters):\n",
    "    totals = []\n",
    "    for i in range (len(centroids)):\n",
    "        data_array = clusters[i]\n",
    "        totals_i = 0\n",
    "        for elem in data_array:\n",
    "            totals_i += e_metrics(centroids[i], elem)\n",
    "        totals.append(totals_i)\n",
    "    return sum(totals)"
   ]
  },
  {
   "cell_type": "code",
   "execution_count": 41,
   "id": "planned-forty",
   "metadata": {},
   "outputs": [],
   "source": [
    "# определим максимальное количество итераций\n",
    "max_iterations = 1\n",
    "\n",
    "# и минимальное расстояние между центроидами до пересчета и после него, при котором нужно остановить алгоритм\n",
    "min_distance = 1e-4\n",
    "\n",
    "# сразу определим известное нам количество кластеров\n",
    "k = 3"
   ]
  },
  {
   "cell_type": "markdown",
   "id": "southeast-peripheral",
   "metadata": {},
   "source": [
    "Сгенерируем датасет для проверки."
   ]
  },
  {
   "cell_type": "code",
   "execution_count": 192,
   "id": "portuguese-valentine",
   "metadata": {},
   "outputs": [],
   "source": [
    "from sklearn.datasets import make_blobs\n",
    "\n",
    "X, y = make_blobs(n_samples=100, random_state=12)"
   ]
  },
  {
   "cell_type": "markdown",
   "id": "contrary-biotechnology",
   "metadata": {},
   "source": [
    "Внешний вид датасета"
   ]
  },
  {
   "cell_type": "code",
   "execution_count": 193,
   "id": "organic-humanity",
   "metadata": {},
   "outputs": [
    {
     "data": {
      "image/png": "[encoded data removed]",
      "text/plain": [
       "<Figure size 504x504 with 1 Axes>"
      ]
     },
     "metadata": {
      "needs_background": "light"
     },
     "output_type": "display_data"
    }
   ],
   "source": [
    "cmap = ListedColormap(['red', 'green', 'blue'])\n",
    "plt.figure(figsize=(7, 7))\n",
    "plt.scatter(X[:, 0], X[:, 1], c=y, cmap=cmap);"
   ]
  },
  {
   "cell_type": "markdown",
   "id": "passing-collectible",
   "metadata": {},
   "source": [
    "Кластеризация"
   ]
  },
  {
   "cell_type": "code",
   "execution_count": 194,
   "id": "liable-buyer",
   "metadata": {
    "scrolled": true
   },
   "outputs": [
    {
     "name": "stdout",
     "output_type": "stream",
     "text": [
      "Wall time: 29 ms\n"
     ]
    }
   ],
   "source": [
    "%%time\n",
    "centroids, clusters = kmeans_task_2(X, k, max_iterations, min_distance)"
   ]
  },
  {
   "cell_type": "markdown",
   "id": "working-fossil",
   "metadata": {},
   "source": [
    "Запуск функции в цикле."
   ]
  },
  {
   "cell_type": "code",
   "execution_count": 195,
   "id": "educated-counter",
   "metadata": {},
   "outputs": [],
   "source": [
    "clusters_score = []\n",
    "for i in range(1, 15):\n",
    "    centroids, clusters = kmeans_task_2(X, i, max_iterations, min_distance)\n",
    "    value = cluster_metric(centroids, clusters)\n",
    "    clusters_score.append([i, value])"
   ]
  },
  {
   "cell_type": "code",
   "execution_count": 196,
   "id": "requested-major",
   "metadata": {
    "scrolled": true
   },
   "outputs": [
    {
     "data": {
      "text/plain": [
       "array([[  1.        , 449.62086804],\n",
       "       [  2.        , 393.02848672],\n",
       "       [  3.        , 197.48419208],\n",
       "       [  4.        , 179.32247068],\n",
       "       [  5.        , 127.99703879],\n",
       "       [  6.        , 125.20628174],\n",
       "       [  7.        , 123.78900247],\n",
       "       [  8.        , 119.67891214],\n",
       "       [  9.        , 110.9344009 ],\n",
       "       [ 10.        , 104.25094161],\n",
       "       [ 11.        ,  94.21501394],\n",
       "       [ 12.        ,  92.94106389],\n",
       "       [ 13.        ,  81.17934631],\n",
       "       [ 14.        ,  77.53448901]])"
      ]
     },
     "execution_count": 196,
     "metadata": {},
     "output_type": "execute_result"
    }
   ],
   "source": [
    "clusters_score = np.array(clusters_score)\n",
    "clusters_score"
   ]
  },
  {
   "cell_type": "markdown",
   "id": "running-village",
   "metadata": {},
   "source": [
    "Построение графика "
   ]
  },
  {
   "cell_type": "code",
   "execution_count": 197,
   "id": "comparative-imaging",
   "metadata": {},
   "outputs": [
    {
     "data": {
      "text/plain": [
       "<function matplotlib.pyplot.show(close=None, block=None)>"
      ]
     },
     "execution_count": 197,
     "metadata": {},
     "output_type": "execute_result"
    },
    {
     "data": {
      "image/png": "[encoded data removed]",
      "text/plain": [
       "<Figure size 720x576 with 1 Axes>"
      ]
     },
     "metadata": {
      "needs_background": "light"
     },
     "output_type": "display_data"
    }
   ],
   "source": [
    "plt.figure(figsize=(10,8))\n",
    "plt.plot(clusters_score[:, 0], clusters_score[:, 1])\n",
    "plt.ylabel(\"score\")\n",
    "plt.xlabel(\"number of clusters\")\n",
    "plt.show"
   ]
  },
  {
   "cell_type": "markdown",
   "id": "prescription-flash",
   "metadata": {},
   "source": [
    "График имеет несколько изломов.  \n",
    "Наиболее сильные изломы соответствуют количеству кластеров = 3 и 5  \n",
    "Надо отметить, что положение изломов зависит, как от распределния точек, так и от количества объектов в выборке."
   ]
  },
  {
   "cell_type": "markdown",
   "id": "august-entry",
   "metadata": {},
   "source": [
    "**3. Оптимизировать код для KNN (оставить один цикл, либо обойтись без циклов вообще).**"
   ]
  },
  {
   "cell_type": "markdown",
   "id": "composed-alaska",
   "metadata": {},
   "source": [
    "Отдельная функция для выполнения предсказания.  \n",
    "См комментарии в коде."
   ]
  },
  {
   "cell_type": "code",
   "execution_count": 183,
   "id": "threatened-tobacco",
   "metadata": {},
   "outputs": [],
   "source": [
    "def predict(inputs, labels, test, k):\n",
    "    \"\"\"Функция выполняющая предсказание и возвращающая значение величины класса по \n",
    "    максимальному количеству голосов за класс\"\"\"\n",
    "    # Вычисление дистанции для кажого из переданных инзутов\n",
    "    inputs['dist'] = np.linalg.norm(inputs.values-test.values, axis=1)\n",
    "    # Объединение ввода и проверочных значений для сохранения порядка после сортировки.\n",
    "    inputs = pd.concat([inputs, labels], axis=1)\n",
    "    # Сортиовка по дистанции вместе со значениями класса     \n",
    "    inputs = inputs.sort_values('dist', ascending=True)\n",
    "    # Выбраны только k значений в топе.\n",
    "    neighbors = inputs.head(k)\n",
    "    # взвращаются значения классов для выбранных соседей\n",
    "    classes = neighbors['class'].tolist()\n",
    "    # Используя тсндартную питоновскую библиотеку берем значение соответствующее\n",
    "    # максимальному количеству голосов\n",
    "    majority_count = Counter(classes)\n",
    "    voted = majority_count.most_common(1).pop()[0]    \n",
    "    return voted"
   ]
  },
  {
   "cell_type": "code",
   "execution_count": 184,
   "id": "different-suffering",
   "metadata": {},
   "outputs": [],
   "source": [
    "def knn_task_3(X_train, y_train, X_test, k):\n",
    "    \"\"\"Базовая функция для работы по алгоритму knn\"\"\"\n",
    "    # Обхявляем бащовый массив с ответами\n",
    "    answers = np.zeros(X_test.shape[0])    \n",
    "    X_test.reset_index(drop=True, inplace=True)\n",
    "    # перебираем тестовый датафрэйм и для каждого X возвращаем\n",
    "    # предсказанное значение класса на основании переданной \n",
    "    # тренировочной выборки\n",
    "    for index, row in X_test.iterrows():\n",
    "        answers[index] = predict(X_train.copy(), y_train.copy(), row, k)        \n",
    "    return answers"
   ]
  },
  {
   "cell_type": "markdown",
   "id": "turned-accuracy",
   "metadata": {},
   "source": [
    "Преобразовываем numpy массив в pandas dataframe, т.к. с ним легче работать."
   ]
  },
  {
   "cell_type": "code",
   "execution_count": 185,
   "id": "interested-mother",
   "metadata": {},
   "outputs": [],
   "source": [
    "X_train_df = pd.DataFrame(X_train)\n",
    "X_test_df = pd.DataFrame(X_test)\n",
    "y_train_df = pd.DataFrame(y_train, columns=['class'])\n",
    "y_test_df = pd.DataFrame(y_test, columns=['class'])"
   ]
  },
  {
   "cell_type": "markdown",
   "id": "cooked-dependence",
   "metadata": {},
   "source": [
    "Проверка работы доработанной функции на примере датасета из задачи 1."
   ]
  },
  {
   "cell_type": "code",
   "execution_count": 186,
   "id": "interested-channels",
   "metadata": {},
   "outputs": [],
   "source": [
    "from collections import Counter"
   ]
  },
  {
   "cell_type": "code",
   "execution_count": 187,
   "id": "scenic-terrorism",
   "metadata": {},
   "outputs": [],
   "source": [
    "k = 25"
   ]
  },
  {
   "cell_type": "code",
   "execution_count": 188,
   "id": "meaningful-hammer",
   "metadata": {
    "scrolled": false
   },
   "outputs": [
    {
     "name": "stdout",
     "output_type": "stream",
     "text": [
      "Wall time: 0 ns\n"
     ]
    }
   ],
   "source": [
    "%time\n",
    "y_pred = knn_task_3(X_train_df, y_train_df, X_test_df, k)"
   ]
  },
  {
   "cell_type": "code",
   "execution_count": 189,
   "id": "understanding-amsterdam",
   "metadata": {},
   "outputs": [
    {
     "name": "stdout",
     "output_type": "stream",
     "text": [
      "Wall time: 0 ns\n",
      "Точность алгоритма при k = 25: 0.933\n"
     ]
    }
   ],
   "source": [
    "%time\n",
    "print(f'Точность алгоритма при k = {k}: {accuracy(y_pred, y_test):.3f}')"
   ]
  },
  {
   "cell_type": "code",
   "execution_count": null,
   "id": "north-shakespeare",
   "metadata": {},
   "outputs": [],
   "source": []
  },
  {
   "cell_type": "code",
   "execution_count": null,
   "id": "hispanic-mattress",
   "metadata": {},
   "outputs": [],
   "source": []
  }
 ],
 "metadata": {
  "kernelspec": {
   "display_name": "Python 3",
   "language": "python",
   "name": "python3"
  },
  "language_info": {
   "codemirror_mode": {
    "name": "ipython",
    "version": 3
   },
   "file_extension": ".py",
   "mimetype": "text/x-python",
   "name": "python",
   "nbconvert_exporter": "python",
   "pygments_lexer": "ipython3",
   "version": "3.9.1"
  }
 },
 "nbformat": 4,
 "nbformat_minor": 5
}
